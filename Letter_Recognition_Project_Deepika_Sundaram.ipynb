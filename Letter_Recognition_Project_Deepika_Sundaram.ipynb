{
 "cells": [
  {
   "cell_type": "markdown",
   "metadata": {
    "id": "hYCeAGGNJiov"
   },
   "source": [
    "# Introduction"
   ]
  },
  {
   "cell_type": "markdown",
   "metadata": {
    "id": "c9OK88ecJhXN"
   },
   "source": [
    "Digitization of machine-printed or handwritten text documents has always been\n",
    "more popular with the advancements in computing and technology. Humans\n",
    "have tried to automatize their work by replacing themselves with machines.\n",
    "Pattern recognition is an important technique that enhances the recognition of\n",
    "data regularities and patterns. Letter recognition is an application of ML that can\n",
    "be used for research, computer vision, and pattern recognition. A device capable\n",
    "of handwriting recognition is to detect characters in paper documents, pictures,\n",
    "and other sources and converts them into digital formats. Experimental results\n",
    "show that the application of deep learning algorithms has achieved good results\n",
    "in training model feature extraction and recognition accuracy."
   ]
  },
  {
   "cell_type": "markdown",
   "metadata": {
    "id": "3KsjxHH-Jm7A"
   },
   "source": [
    "#  Problem Statement "
   ]
  },
  {
   "cell_type": "markdown",
   "metadata": {
    "id": "qHqy0TgpP3M6"
   },
   "source": [
    "The objective is to identify each of a large number of black-and-white rectangular pixel displays as one of the 26 capital letters in the English alphabet.\n",
    "It contains the 26 English alphabets as classes, so it's a\n",
    "multi-class classification problem with 26 classes.\n",
    "Here we identify each of many black-and-white rectangular pixels displayed as\n",
    "one of the 26 capital letters in the English alphabet. The character images were\n",
    "based on 20 different fonts and each letter within these 20 fonts was randomly\n",
    "distorted to produce a file of 20,000 unique stimuli. Each stimulus was converted\n",
    "into 16 primitive numerical attributes which were then scaled to fit into a range of\n",
    "integer values from 0 through 15. In this project, character recognition is done\n",
    "using Machine Learning and Deep Learning models"
   ]
  },
  {
   "cell_type": "markdown",
   "metadata": {
    "id": "0Q_Kdr1uKBaf"
   },
   "source": [
    "# Data Set"
   ]
  },
  {
   "cell_type": "markdown",
   "metadata": {
    "id": "acPxQvjEKC5B"
   },
   "source": [
    "Data Source:\n",
    "\n",
    "For the project, the data set is taken from the UCI repository. You can access the\n",
    "data dictionary of the letter recognition data set.\n",
    "https://archive-beta.ics.uci.edu/ml/datasets/letter+recognition\n",
    "\n",
    "Data Description: \n",
    "\n",
    "The dataset consists of 20000 instances and 17 attributes (Letter + 16\n",
    "features)\n",
    "Each row in the data set represents an image of a handwritten alphabet. Using\n",
    "some basic image processing, the images are converted into pixels. Each pixel\n",
    "contains numeric values. Using the pixelated images, 16 features are derived for\n",
    "each image."
   ]
  },
  {
   "cell_type": "markdown",
   "metadata": {
    "id": "s92HxrvCJvtB"
   },
   "source": [
    "# Importing Required Libraries"
   ]
  },
  {
   "cell_type": "code",
   "execution_count": 272,
   "metadata": {
    "id": "J6JEUx4Oa8QL"
   },
   "outputs": [],
   "source": [
    "import pandas as pd\n",
    "import numpy as np\n",
    "from sklearn.linear_model import Perceptron\n",
    "from sklearn.model_selection import train_test_split\n",
    "from sklearn.metrics import confusion_matrix\n",
    "import math\n",
    "from collections import Counter\n",
    "import seaborn as sns\n",
    "import matplotlib.pyplot as plt #for plotting\n",
    "from sklearn.ensemble import RandomForestClassifier\n",
    "from sklearn.metrics import multilabel_confusion_matrix\n",
    "from sklearn.preprocessing import StandardScaler\n",
    "from math import sqrt\n",
    "# importing mean() \n",
    "from statistics import mean\n",
    "from sklearn.base import BaseEstimator, ClassifierMixin\n",
    "from sklearn.utils import check_random_state\n",
    "from sklearn.preprocessing import LabelEncoder\n",
    "from abc import ABC,abstractmethod\n",
    "from sklearn.metrics import classification_report\n",
    "from sklearn.model_selection import StratifiedKFold,cross_validate\n",
    "from sklearn.metrics import accuracy_score,precision_score,recall_score,mean_absolute_error,mean_squared_error,r2_score,make_scorer\n",
    "from abc import ABC,abstractmethod\n",
    "from sklearn.base import clone\n",
    "from sklearn.tree import DecisionTreeClassifier\n",
    "## import the scikit-learn models ##\n",
    "from sklearn.ensemble import RandomForestClassifier, BaggingClassifier \n",
    "from sklearn.tree import DecisionTreeClassifier\n",
    "from typing import Dict, Any\n",
    "from sklearn.pipeline import Pipeline\n",
    "from scipy import stats\n",
    "from collections import Counter\n",
    "from typing import Union, Tuple\n",
    "import numpy as np\n",
    "from sklearn import tree\n",
    "import matplotlib.pyplot as plt\n"
   ]
  },
  {
   "cell_type": "markdown",
   "metadata": {
    "id": "fYKO1L7VJ0Mn"
   },
   "source": [
    "### Loading the Dataset"
   ]
  },
  {
   "cell_type": "code",
   "execution_count": 261,
   "metadata": {
    "colab": {
     "base_uri": "https://localhost:8080/",
     "height": 363
    },
    "id": "gTrumqNyddWz",
    "outputId": "14ec968d-03dd-46ae-c6ef-5c54131be35f"
   },
   "outputs": [
    {
     "data": {
      "text/html": [
       "<div>\n",
       "<style scoped>\n",
       "    .dataframe tbody tr th:only-of-type {\n",
       "        vertical-align: middle;\n",
       "    }\n",
       "\n",
       "    .dataframe tbody tr th {\n",
       "        vertical-align: top;\n",
       "    }\n",
       "\n",
       "    .dataframe thead th {\n",
       "        text-align: right;\n",
       "    }\n",
       "</style>\n",
       "<table border=\"1\" class=\"dataframe\">\n",
       "  <thead>\n",
       "    <tr style=\"text-align: right;\">\n",
       "      <th></th>\n",
       "      <th>letter</th>\n",
       "      <th>xbox</th>\n",
       "      <th>ybox</th>\n",
       "      <th>width</th>\n",
       "      <th>height</th>\n",
       "      <th>onpix</th>\n",
       "      <th>xbar</th>\n",
       "      <th>ybar</th>\n",
       "      <th>x2bar</th>\n",
       "      <th>y2bar</th>\n",
       "      <th>xybar</th>\n",
       "      <th>x2ybar</th>\n",
       "      <th>xy2bar</th>\n",
       "      <th>xedge</th>\n",
       "      <th>xedgey</th>\n",
       "      <th>yedge</th>\n",
       "      <th>yedgex</th>\n",
       "    </tr>\n",
       "  </thead>\n",
       "  <tbody>\n",
       "    <tr>\n",
       "      <th>0</th>\n",
       "      <td>T</td>\n",
       "      <td>2</td>\n",
       "      <td>8</td>\n",
       "      <td>3</td>\n",
       "      <td>5</td>\n",
       "      <td>1</td>\n",
       "      <td>8</td>\n",
       "      <td>13</td>\n",
       "      <td>0</td>\n",
       "      <td>6</td>\n",
       "      <td>6</td>\n",
       "      <td>10</td>\n",
       "      <td>8</td>\n",
       "      <td>0</td>\n",
       "      <td>8</td>\n",
       "      <td>0</td>\n",
       "      <td>8</td>\n",
       "    </tr>\n",
       "    <tr>\n",
       "      <th>1</th>\n",
       "      <td>I</td>\n",
       "      <td>5</td>\n",
       "      <td>12</td>\n",
       "      <td>3</td>\n",
       "      <td>7</td>\n",
       "      <td>2</td>\n",
       "      <td>10</td>\n",
       "      <td>5</td>\n",
       "      <td>5</td>\n",
       "      <td>4</td>\n",
       "      <td>13</td>\n",
       "      <td>3</td>\n",
       "      <td>9</td>\n",
       "      <td>2</td>\n",
       "      <td>8</td>\n",
       "      <td>4</td>\n",
       "      <td>10</td>\n",
       "    </tr>\n",
       "    <tr>\n",
       "      <th>2</th>\n",
       "      <td>D</td>\n",
       "      <td>4</td>\n",
       "      <td>11</td>\n",
       "      <td>6</td>\n",
       "      <td>8</td>\n",
       "      <td>6</td>\n",
       "      <td>10</td>\n",
       "      <td>6</td>\n",
       "      <td>2</td>\n",
       "      <td>6</td>\n",
       "      <td>10</td>\n",
       "      <td>3</td>\n",
       "      <td>7</td>\n",
       "      <td>3</td>\n",
       "      <td>7</td>\n",
       "      <td>3</td>\n",
       "      <td>9</td>\n",
       "    </tr>\n",
       "    <tr>\n",
       "      <th>3</th>\n",
       "      <td>N</td>\n",
       "      <td>7</td>\n",
       "      <td>11</td>\n",
       "      <td>6</td>\n",
       "      <td>6</td>\n",
       "      <td>3</td>\n",
       "      <td>5</td>\n",
       "      <td>9</td>\n",
       "      <td>4</td>\n",
       "      <td>6</td>\n",
       "      <td>4</td>\n",
       "      <td>4</td>\n",
       "      <td>10</td>\n",
       "      <td>6</td>\n",
       "      <td>10</td>\n",
       "      <td>2</td>\n",
       "      <td>8</td>\n",
       "    </tr>\n",
       "    <tr>\n",
       "      <th>4</th>\n",
       "      <td>G</td>\n",
       "      <td>2</td>\n",
       "      <td>1</td>\n",
       "      <td>3</td>\n",
       "      <td>1</td>\n",
       "      <td>1</td>\n",
       "      <td>8</td>\n",
       "      <td>6</td>\n",
       "      <td>6</td>\n",
       "      <td>6</td>\n",
       "      <td>6</td>\n",
       "      <td>5</td>\n",
       "      <td>9</td>\n",
       "      <td>1</td>\n",
       "      <td>7</td>\n",
       "      <td>5</td>\n",
       "      <td>10</td>\n",
       "    </tr>\n",
       "    <tr>\n",
       "      <th>5</th>\n",
       "      <td>S</td>\n",
       "      <td>4</td>\n",
       "      <td>11</td>\n",
       "      <td>5</td>\n",
       "      <td>8</td>\n",
       "      <td>3</td>\n",
       "      <td>8</td>\n",
       "      <td>8</td>\n",
       "      <td>6</td>\n",
       "      <td>9</td>\n",
       "      <td>5</td>\n",
       "      <td>6</td>\n",
       "      <td>6</td>\n",
       "      <td>0</td>\n",
       "      <td>8</td>\n",
       "      <td>9</td>\n",
       "      <td>7</td>\n",
       "    </tr>\n",
       "    <tr>\n",
       "      <th>6</th>\n",
       "      <td>B</td>\n",
       "      <td>4</td>\n",
       "      <td>2</td>\n",
       "      <td>5</td>\n",
       "      <td>4</td>\n",
       "      <td>4</td>\n",
       "      <td>8</td>\n",
       "      <td>7</td>\n",
       "      <td>6</td>\n",
       "      <td>6</td>\n",
       "      <td>7</td>\n",
       "      <td>6</td>\n",
       "      <td>6</td>\n",
       "      <td>2</td>\n",
       "      <td>8</td>\n",
       "      <td>7</td>\n",
       "      <td>10</td>\n",
       "    </tr>\n",
       "    <tr>\n",
       "      <th>7</th>\n",
       "      <td>A</td>\n",
       "      <td>1</td>\n",
       "      <td>1</td>\n",
       "      <td>3</td>\n",
       "      <td>2</td>\n",
       "      <td>1</td>\n",
       "      <td>8</td>\n",
       "      <td>2</td>\n",
       "      <td>2</td>\n",
       "      <td>2</td>\n",
       "      <td>8</td>\n",
       "      <td>2</td>\n",
       "      <td>8</td>\n",
       "      <td>1</td>\n",
       "      <td>6</td>\n",
       "      <td>2</td>\n",
       "      <td>7</td>\n",
       "    </tr>\n",
       "    <tr>\n",
       "      <th>8</th>\n",
       "      <td>J</td>\n",
       "      <td>2</td>\n",
       "      <td>2</td>\n",
       "      <td>4</td>\n",
       "      <td>4</td>\n",
       "      <td>2</td>\n",
       "      <td>10</td>\n",
       "      <td>6</td>\n",
       "      <td>2</td>\n",
       "      <td>6</td>\n",
       "      <td>12</td>\n",
       "      <td>4</td>\n",
       "      <td>8</td>\n",
       "      <td>1</td>\n",
       "      <td>6</td>\n",
       "      <td>1</td>\n",
       "      <td>7</td>\n",
       "    </tr>\n",
       "    <tr>\n",
       "      <th>9</th>\n",
       "      <td>M</td>\n",
       "      <td>11</td>\n",
       "      <td>15</td>\n",
       "      <td>13</td>\n",
       "      <td>9</td>\n",
       "      <td>7</td>\n",
       "      <td>13</td>\n",
       "      <td>2</td>\n",
       "      <td>6</td>\n",
       "      <td>2</td>\n",
       "      <td>12</td>\n",
       "      <td>1</td>\n",
       "      <td>9</td>\n",
       "      <td>8</td>\n",
       "      <td>1</td>\n",
       "      <td>1</td>\n",
       "      <td>8</td>\n",
       "    </tr>\n",
       "  </tbody>\n",
       "</table>\n",
       "</div>"
      ],
      "text/plain": [
       "  letter  xbox   ybox   width   height  onpix   xbar   ybar   x2bar  y2bar  \\\n",
       "0      T      2      8       3       5       1      8     13      0      6   \n",
       "1      I      5     12       3       7       2     10      5      5      4   \n",
       "2      D      4     11       6       8       6     10      6      2      6   \n",
       "3      N      7     11       6       6       3      5      9      4      6   \n",
       "4      G      2      1       3       1       1      8      6      6      6   \n",
       "5      S      4     11       5       8       3      8      8      6      9   \n",
       "6      B      4      2       5       4       4      8      7      6      6   \n",
       "7      A      1      1       3       2       1      8      2      2      2   \n",
       "8      J      2      2       4       4       2     10      6      2      6   \n",
       "9      M     11     15      13       9       7     13      2      6      2   \n",
       "\n",
       "   xybar   x2ybar  xy2bar  xedge   xedgey  yedge   yedgex  \n",
       "0       6      10       8       0       8       0       8  \n",
       "1      13       3       9       2       8       4      10  \n",
       "2      10       3       7       3       7       3       9  \n",
       "3       4       4      10       6      10       2       8  \n",
       "4       6       5       9       1       7       5      10  \n",
       "5       5       6       6       0       8       9       7  \n",
       "6       7       6       6       2       8       7      10  \n",
       "7       8       2       8       1       6       2       7  \n",
       "8      12       4       8       1       6       1       7  \n",
       "9      12       1       9       8       1       1       8  "
      ]
     },
     "execution_count": 261,
     "metadata": {},
     "output_type": "execute_result"
    }
   ],
   "source": [
    "letter_df = pd.read_csv('letter-recognition.csv',header=0,)# header 0 means the first row is name of the coloumn \n",
    "\n",
    "# View sample data\n",
    "letter_df.head(10) "
   ]
  },
  {
   "cell_type": "code",
   "execution_count": 4,
   "metadata": {
    "colab": {
     "base_uri": "https://localhost:8080/"
    },
    "id": "8nolxCGUekTM",
    "outputId": "8b4f58bd-10df-4b2a-f4a0-cd464efe9139"
   },
   "outputs": [
    {
     "data": {
      "text/plain": [
       "(20000, 17)"
      ]
     },
     "execution_count": 4,
     "metadata": {},
     "output_type": "execute_result"
    }
   ],
   "source": [
    "letter_df.shape\n"
   ]
  },
  {
   "cell_type": "code",
   "execution_count": 5,
   "metadata": {
    "colab": {
     "base_uri": "https://localhost:8080/",
     "height": 364
    },
    "id": "DHZnuGVPelxv",
    "outputId": "c0b3c3fd-8c69-4fde-ec7c-27b0077f9308"
   },
   "outputs": [
    {
     "data": {
      "text/html": [
       "<div>\n",
       "<style scoped>\n",
       "    .dataframe tbody tr th:only-of-type {\n",
       "        vertical-align: middle;\n",
       "    }\n",
       "\n",
       "    .dataframe tbody tr th {\n",
       "        vertical-align: top;\n",
       "    }\n",
       "\n",
       "    .dataframe thead th {\n",
       "        text-align: right;\n",
       "    }\n",
       "</style>\n",
       "<table border=\"1\" class=\"dataframe\">\n",
       "  <thead>\n",
       "    <tr style=\"text-align: right;\">\n",
       "      <th></th>\n",
       "      <th>xbox</th>\n",
       "      <th>ybox</th>\n",
       "      <th>width</th>\n",
       "      <th>height</th>\n",
       "      <th>onpix</th>\n",
       "      <th>xbar</th>\n",
       "      <th>ybar</th>\n",
       "      <th>x2bar</th>\n",
       "      <th>y2bar</th>\n",
       "      <th>xybar</th>\n",
       "      <th>x2ybar</th>\n",
       "      <th>xy2bar</th>\n",
       "      <th>xedge</th>\n",
       "      <th>xedgey</th>\n",
       "      <th>yedge</th>\n",
       "      <th>yedgex</th>\n",
       "    </tr>\n",
       "  </thead>\n",
       "  <tbody>\n",
       "    <tr>\n",
       "      <th>count</th>\n",
       "      <td>20000.000000</td>\n",
       "      <td>20000.000000</td>\n",
       "      <td>20000.000000</td>\n",
       "      <td>20000.00000</td>\n",
       "      <td>20000.000000</td>\n",
       "      <td>20000.000000</td>\n",
       "      <td>20000.000000</td>\n",
       "      <td>20000.000000</td>\n",
       "      <td>20000.000000</td>\n",
       "      <td>20000.000000</td>\n",
       "      <td>20000.00000</td>\n",
       "      <td>20000.000000</td>\n",
       "      <td>20000.000000</td>\n",
       "      <td>20000.000000</td>\n",
       "      <td>20000.000000</td>\n",
       "      <td>20000.00000</td>\n",
       "    </tr>\n",
       "    <tr>\n",
       "      <th>mean</th>\n",
       "      <td>4.023550</td>\n",
       "      <td>7.035500</td>\n",
       "      <td>5.121850</td>\n",
       "      <td>5.37245</td>\n",
       "      <td>3.505850</td>\n",
       "      <td>6.897600</td>\n",
       "      <td>7.500450</td>\n",
       "      <td>4.628600</td>\n",
       "      <td>5.178650</td>\n",
       "      <td>8.282050</td>\n",
       "      <td>6.45400</td>\n",
       "      <td>7.929000</td>\n",
       "      <td>3.046100</td>\n",
       "      <td>8.338850</td>\n",
       "      <td>3.691750</td>\n",
       "      <td>7.80120</td>\n",
       "    </tr>\n",
       "    <tr>\n",
       "      <th>std</th>\n",
       "      <td>1.913212</td>\n",
       "      <td>3.304555</td>\n",
       "      <td>2.014573</td>\n",
       "      <td>2.26139</td>\n",
       "      <td>2.190458</td>\n",
       "      <td>2.026035</td>\n",
       "      <td>2.325354</td>\n",
       "      <td>2.699968</td>\n",
       "      <td>2.380823</td>\n",
       "      <td>2.488475</td>\n",
       "      <td>2.63107</td>\n",
       "      <td>2.080619</td>\n",
       "      <td>2.332541</td>\n",
       "      <td>1.546722</td>\n",
       "      <td>2.567073</td>\n",
       "      <td>1.61747</td>\n",
       "    </tr>\n",
       "    <tr>\n",
       "      <th>min</th>\n",
       "      <td>0.000000</td>\n",
       "      <td>0.000000</td>\n",
       "      <td>0.000000</td>\n",
       "      <td>0.00000</td>\n",
       "      <td>0.000000</td>\n",
       "      <td>0.000000</td>\n",
       "      <td>0.000000</td>\n",
       "      <td>0.000000</td>\n",
       "      <td>0.000000</td>\n",
       "      <td>0.000000</td>\n",
       "      <td>0.00000</td>\n",
       "      <td>0.000000</td>\n",
       "      <td>0.000000</td>\n",
       "      <td>0.000000</td>\n",
       "      <td>0.000000</td>\n",
       "      <td>0.00000</td>\n",
       "    </tr>\n",
       "    <tr>\n",
       "      <th>25%</th>\n",
       "      <td>3.000000</td>\n",
       "      <td>5.000000</td>\n",
       "      <td>4.000000</td>\n",
       "      <td>4.00000</td>\n",
       "      <td>2.000000</td>\n",
       "      <td>6.000000</td>\n",
       "      <td>6.000000</td>\n",
       "      <td>3.000000</td>\n",
       "      <td>4.000000</td>\n",
       "      <td>7.000000</td>\n",
       "      <td>5.00000</td>\n",
       "      <td>7.000000</td>\n",
       "      <td>1.000000</td>\n",
       "      <td>8.000000</td>\n",
       "      <td>2.000000</td>\n",
       "      <td>7.00000</td>\n",
       "    </tr>\n",
       "    <tr>\n",
       "      <th>50%</th>\n",
       "      <td>4.000000</td>\n",
       "      <td>7.000000</td>\n",
       "      <td>5.000000</td>\n",
       "      <td>6.00000</td>\n",
       "      <td>3.000000</td>\n",
       "      <td>7.000000</td>\n",
       "      <td>7.000000</td>\n",
       "      <td>4.000000</td>\n",
       "      <td>5.000000</td>\n",
       "      <td>8.000000</td>\n",
       "      <td>6.00000</td>\n",
       "      <td>8.000000</td>\n",
       "      <td>3.000000</td>\n",
       "      <td>8.000000</td>\n",
       "      <td>3.000000</td>\n",
       "      <td>8.00000</td>\n",
       "    </tr>\n",
       "    <tr>\n",
       "      <th>75%</th>\n",
       "      <td>5.000000</td>\n",
       "      <td>9.000000</td>\n",
       "      <td>6.000000</td>\n",
       "      <td>7.00000</td>\n",
       "      <td>5.000000</td>\n",
       "      <td>8.000000</td>\n",
       "      <td>9.000000</td>\n",
       "      <td>6.000000</td>\n",
       "      <td>7.000000</td>\n",
       "      <td>10.000000</td>\n",
       "      <td>8.00000</td>\n",
       "      <td>9.000000</td>\n",
       "      <td>4.000000</td>\n",
       "      <td>9.000000</td>\n",
       "      <td>5.000000</td>\n",
       "      <td>9.00000</td>\n",
       "    </tr>\n",
       "    <tr>\n",
       "      <th>max</th>\n",
       "      <td>15.000000</td>\n",
       "      <td>15.000000</td>\n",
       "      <td>15.000000</td>\n",
       "      <td>15.00000</td>\n",
       "      <td>15.000000</td>\n",
       "      <td>15.000000</td>\n",
       "      <td>15.000000</td>\n",
       "      <td>15.000000</td>\n",
       "      <td>15.000000</td>\n",
       "      <td>15.000000</td>\n",
       "      <td>15.00000</td>\n",
       "      <td>15.000000</td>\n",
       "      <td>15.000000</td>\n",
       "      <td>15.000000</td>\n",
       "      <td>15.000000</td>\n",
       "      <td>15.00000</td>\n",
       "    </tr>\n",
       "  </tbody>\n",
       "</table>\n",
       "</div>"
      ],
      "text/plain": [
       "              xbox          ybox         width        height        onpix   \\\n",
       "count  20000.000000  20000.000000  20000.000000  20000.00000  20000.000000   \n",
       "mean       4.023550      7.035500      5.121850      5.37245      3.505850   \n",
       "std        1.913212      3.304555      2.014573      2.26139      2.190458   \n",
       "min        0.000000      0.000000      0.000000      0.00000      0.000000   \n",
       "25%        3.000000      5.000000      4.000000      4.00000      2.000000   \n",
       "50%        4.000000      7.000000      5.000000      6.00000      3.000000   \n",
       "75%        5.000000      9.000000      6.000000      7.00000      5.000000   \n",
       "max       15.000000     15.000000     15.000000     15.00000     15.000000   \n",
       "\n",
       "              xbar          ybar          x2bar         y2bar        xybar   \\\n",
       "count  20000.000000  20000.000000  20000.000000  20000.000000  20000.000000   \n",
       "mean       6.897600      7.500450      4.628600      5.178650      8.282050   \n",
       "std        2.026035      2.325354      2.699968      2.380823      2.488475   \n",
       "min        0.000000      0.000000      0.000000      0.000000      0.000000   \n",
       "25%        6.000000      6.000000      3.000000      4.000000      7.000000   \n",
       "50%        7.000000      7.000000      4.000000      5.000000      8.000000   \n",
       "75%        8.000000      9.000000      6.000000      7.000000     10.000000   \n",
       "max       15.000000     15.000000     15.000000     15.000000     15.000000   \n",
       "\n",
       "            x2ybar        xy2bar        xedge         xedgey        yedge   \\\n",
       "count  20000.00000  20000.000000  20000.000000  20000.000000  20000.000000   \n",
       "mean       6.45400      7.929000      3.046100      8.338850      3.691750   \n",
       "std        2.63107      2.080619      2.332541      1.546722      2.567073   \n",
       "min        0.00000      0.000000      0.000000      0.000000      0.000000   \n",
       "25%        5.00000      7.000000      1.000000      8.000000      2.000000   \n",
       "50%        6.00000      8.000000      3.000000      8.000000      3.000000   \n",
       "75%        8.00000      9.000000      4.000000      9.000000      5.000000   \n",
       "max       15.00000     15.000000     15.000000     15.000000     15.000000   \n",
       "\n",
       "            yedgex  \n",
       "count  20000.00000  \n",
       "mean       7.80120  \n",
       "std        1.61747  \n",
       "min        0.00000  \n",
       "25%        7.00000  \n",
       "50%        8.00000  \n",
       "75%        9.00000  \n",
       "max       15.00000  "
      ]
     },
     "execution_count": 5,
     "metadata": {},
     "output_type": "execute_result"
    }
   ],
   "source": [
    "letter_df.describe()"
   ]
  },
  {
   "cell_type": "code",
   "execution_count": 262,
   "metadata": {
    "colab": {
     "base_uri": "https://localhost:8080/"
    },
    "id": "moI8FFLvexHQ",
    "outputId": "b3bb0873-b408-4aad-a9e5-fb7e70dd6651"
   },
   "outputs": [
    {
     "data": {
      "text/plain": [
       "Index(['letter', 'xbox ', 'ybox ', 'width ', 'height', 'onpix ', 'xbar ',\n",
       "       'ybar ', 'x2bar', 'y2bar', 'xybar ', 'x2ybar', 'xy2bar', 'xedge ',\n",
       "       'xedgey', 'yedge ', 'yedgex'],\n",
       "      dtype='object')"
      ]
     },
     "execution_count": 262,
     "metadata": {},
     "output_type": "execute_result"
    }
   ],
   "source": [
    "feature_names = letter_df.columns\n",
    "feature_names"
   ]
  },
  {
   "cell_type": "markdown",
   "metadata": {
    "id": "_raBy1eqJ9J0"
   },
   "source": [
    "# Exploratory Data Analysis"
   ]
  },
  {
   "cell_type": "code",
   "execution_count": 263,
   "metadata": {
    "colab": {
     "base_uri": "https://localhost:8080/"
    },
    "id": "P9xz7YA3mO6I",
    "outputId": "9377481c-f787-4779-e677-6a0830ca6a35"
   },
   "outputs": [
    {
     "name": "stdout",
     "output_type": "stream",
     "text": [
      "Index(['letter', 'xbox', 'ybox', 'width', 'height', 'onpix', 'xbar', 'ybar',\n",
      "       'x2bar', 'y2bar', 'xybar', 'x2ybar', 'xy2bar', 'xedge', 'xedgey',\n",
      "       'yedge', 'yedgex'],\n",
      "      dtype='object')\n"
     ]
    }
   ],
   "source": [
    "#reindexing the column names to remove extra spaces\n",
    "letter_df.columns = ['letter', 'xbox', 'ybox', 'width', 'height', 'onpix', 'xbar',\n",
    "       'ybar', 'x2bar', 'y2bar', 'xybar', 'x2ybar', 'xy2bar', 'xedge',\n",
    "       'xedgey', 'yedge', 'yedgex']\n",
    "print(letter_df.columns)"
   ]
  },
  {
   "cell_type": "code",
   "execution_count": 266,
   "metadata": {
    "colab": {
     "base_uri": "https://localhost:8080/"
    },
    "id": "xvHzyRMMmCTa",
    "outputId": "be563219-0c91-4f18-b371-24b651a5b9f1"
   },
   "outputs": [
    {
     "name": "stdout",
     "output_type": "stream",
     "text": [
      "['A', 'B', 'C', 'D', 'E', 'F', 'G', 'H', 'I', 'J', 'K', 'L', 'M', 'N', 'O', 'P', 'Q', 'R', 'S', 'T', 'U', 'V', 'W', 'X', 'Y', 'Z']\n"
     ]
    }
   ],
   "source": [
    "order = list(np.sort(letter_df['letter'].unique()))\n",
    "print(order)"
   ]
  },
  {
   "cell_type": "markdown",
   "metadata": {
    "id": "jEFudRCwKTiy"
   },
   "source": [
    "The below graph is plotted to represent the number of observations of each\n",
    "letter across the datasets."
   ]
  },
  {
   "cell_type": "code",
   "execution_count": 10,
   "metadata": {
    "colab": {
     "base_uri": "https://localhost:8080/",
     "height": 353
    },
    "id": "LIsV4iM2eUNU",
    "outputId": "a55758c5-934c-4a47-d4d2-26eda509f884"
   },
   "outputs": [
    {
     "name": "stderr",
     "output_type": "stream",
     "text": [
      "/Users/deepikasundaram/opt/anaconda3/lib/python3.9/site-packages/seaborn/_decorators.py:36: FutureWarning: Pass the following variable as a keyword arg: x. From version 0.12, the only valid positional argument will be `data`, and passing other arguments without an explicit keyword will result in an error or misinterpretation.\n",
      "  warnings.warn(\n"
     ]
    },
    {
     "data": {
      "text/plain": [
       "<AxesSubplot:xlabel='letter', ylabel='count'>"
      ]
     },
     "execution_count": 10,
     "metadata": {},
     "output_type": "execute_result"
    },
    {
     "data": {
      "image/png": "[encoded data removed]",
      "text/plain": [
       "<Figure size 432x288 with 1 Axes>"
      ]
     },
     "metadata": {
      "needs_background": "light"
     },
     "output_type": "display_data"
    }
   ],
   "source": [
    "# Plot distribution\n",
    "sns.countplot(letter_df['letter'])"
   ]
  },
  {
   "cell_type": "markdown",
   "metadata": {
    "id": "dcDx1gCCKVhX"
   },
   "source": [
    "This bar plot represents the comparisons between discrete categories. This\n",
    "shows how the categorical attribute letter varies with numerical attribute xbox.\n",
    "For each letter the value of xbox varies and it is plotted in bar graph to easily\n",
    "understand the variation in values."
   ]
  },
  {
   "cell_type": "code",
   "execution_count": 11,
   "metadata": {
    "colab": {
     "base_uri": "https://localhost:8080/",
     "height": 515
    },
    "id": "NhFsq9k4mfeQ",
    "outputId": "29acdbfb-b9f2-4917-e173-02d9a0045b5b"
   },
   "outputs": [
    {
     "data": {
      "text/plain": [
       "<AxesSubplot:xlabel='letter', ylabel='xbox'>"
      ]
     },
     "execution_count": 11,
     "metadata": {},
     "output_type": "execute_result"
    },
    {
     "data": {
      "image/png": "[encoded data removed]",
      "text/plain": [
       "<Figure size 1152x576 with 1 Axes>"
      ]
     },
     "metadata": {
      "needs_background": "light"
     },
     "output_type": "display_data"
    }
   ],
   "source": [
    "plt.figure(figsize=(16, 8))\n",
    "sns.barplot(x='letter', y='xbox', \n",
    "            data=letter_df, \n",
    "            order=order)"
   ]
  },
  {
   "cell_type": "markdown",
   "metadata": {
    "id": "ghkWjvzaKY3-"
   },
   "source": [
    "This bar plot presents the categorical attribute letter with numerical attribute\n",
    "width proportional to the values that they represent. The relationship between\n",
    "letter and width is represented. For each letter the value of width is different, and\n",
    "it can be used to identify a letter."
   ]
  },
  {
   "cell_type": "code",
   "execution_count": 12,
   "metadata": {
    "colab": {
     "base_uri": "https://localhost:8080/",
     "height": 515
    },
    "id": "dSvIRwWgpQ4T",
    "outputId": "379ad9bf-8006-47ce-d18b-0f634940695a"
   },
   "outputs": [
    {
     "data": {
      "text/plain": [
       "<AxesSubplot:xlabel='letter', ylabel='width'>"
      ]
     },
     "execution_count": 12,
     "metadata": {},
     "output_type": "execute_result"
    },
    {
     "data": {
      "image/png": "[encoded data removed]",
      "text/plain": [
       "<Figure size 1152x576 with 1 Axes>"
      ]
     },
     "metadata": {
      "needs_background": "light"
     },
     "output_type": "display_data"
    }
   ],
   "source": [
    "plt.figure(figsize=(16, 8))\n",
    "sns.barplot(x='letter', y='width', \n",
    "            data=letter_df, \n",
    "            order=order)"
   ]
  },
  {
   "cell_type": "code",
   "execution_count": 13,
   "metadata": {
    "colab": {
     "base_uri": "https://localhost:8080/",
     "height": 1000
    },
    "id": "ZSHUZe-8fEpL",
    "outputId": "b7b6d351-7d28-4b0c-e2fe-86a7674a9236"
   },
   "outputs": [
    {
     "data": {
      "image/png": "[encoded data removed]",
      "text/plain": [
       "<Figure size 1440x1440 with 16 Axes>"
      ]
     },
     "metadata": {
      "needs_background": "light"
     },
     "output_type": "display_data"
    }
   ],
   "source": [
    "p = letter_df.hist(figsize = (20,20))"
   ]
  },
  {
   "cell_type": "markdown",
   "metadata": {
    "id": "wz1LFCkhKcEa"
   },
   "source": [
    "This histogram plot represents the distribution of all features within the dataset,\n",
    "with one feature per plot. This graph is plotted to see the skewness of the data.\n",
    "From the below plot, we can see none of the data are skewed."
   ]
  },
  {
   "cell_type": "code",
   "execution_count": 14,
   "metadata": {
    "colab": {
     "base_uri": "https://localhost:8080/",
     "height": 238
    },
    "id": "oKK2M5JEm2Ez",
    "outputId": "5e8a2044-81b0-4d27-dcad-90d13cbf5e7e"
   },
   "outputs": [
    {
     "data": {
      "text/html": [
       "<div>\n",
       "<style scoped>\n",
       "    .dataframe tbody tr th:only-of-type {\n",
       "        vertical-align: middle;\n",
       "    }\n",
       "\n",
       "    .dataframe tbody tr th {\n",
       "        vertical-align: top;\n",
       "    }\n",
       "\n",
       "    .dataframe thead th {\n",
       "        text-align: right;\n",
       "    }\n",
       "</style>\n",
       "<table border=\"1\" class=\"dataframe\">\n",
       "  <thead>\n",
       "    <tr style=\"text-align: right;\">\n",
       "      <th></th>\n",
       "      <th>xbox</th>\n",
       "      <th>ybox</th>\n",
       "      <th>width</th>\n",
       "      <th>height</th>\n",
       "      <th>onpix</th>\n",
       "      <th>xbar</th>\n",
       "      <th>ybar</th>\n",
       "      <th>x2bar</th>\n",
       "      <th>y2bar</th>\n",
       "      <th>xybar</th>\n",
       "      <th>x2ybar</th>\n",
       "      <th>xy2bar</th>\n",
       "      <th>xedge</th>\n",
       "      <th>xedgey</th>\n",
       "      <th>yedge</th>\n",
       "      <th>yedgex</th>\n",
       "    </tr>\n",
       "    <tr>\n",
       "      <th>letter</th>\n",
       "      <th></th>\n",
       "      <th></th>\n",
       "      <th></th>\n",
       "      <th></th>\n",
       "      <th></th>\n",
       "      <th></th>\n",
       "      <th></th>\n",
       "      <th></th>\n",
       "      <th></th>\n",
       "      <th></th>\n",
       "      <th></th>\n",
       "      <th></th>\n",
       "      <th></th>\n",
       "      <th></th>\n",
       "      <th></th>\n",
       "      <th></th>\n",
       "    </tr>\n",
       "  </thead>\n",
       "  <tbody>\n",
       "    <tr>\n",
       "      <th>A</th>\n",
       "      <td>3.337136</td>\n",
       "      <td>6.975919</td>\n",
       "      <td>5.128010</td>\n",
       "      <td>5.178707</td>\n",
       "      <td>2.991128</td>\n",
       "      <td>8.851711</td>\n",
       "      <td>3.631179</td>\n",
       "      <td>2.755387</td>\n",
       "      <td>2.043093</td>\n",
       "      <td>7.802281</td>\n",
       "      <td>2.338403</td>\n",
       "      <td>8.465146</td>\n",
       "      <td>2.771863</td>\n",
       "      <td>6.321926</td>\n",
       "      <td>2.875792</td>\n",
       "      <td>7.468948</td>\n",
       "    </tr>\n",
       "    <tr>\n",
       "      <th>B</th>\n",
       "      <td>3.985640</td>\n",
       "      <td>6.962141</td>\n",
       "      <td>5.088773</td>\n",
       "      <td>5.169713</td>\n",
       "      <td>4.596606</td>\n",
       "      <td>7.671018</td>\n",
       "      <td>7.062663</td>\n",
       "      <td>5.366841</td>\n",
       "      <td>5.571802</td>\n",
       "      <td>7.954308</td>\n",
       "      <td>5.506527</td>\n",
       "      <td>6.652742</td>\n",
       "      <td>3.117493</td>\n",
       "      <td>7.919060</td>\n",
       "      <td>6.612272</td>\n",
       "      <td>9.100522</td>\n",
       "    </tr>\n",
       "    <tr>\n",
       "      <th>C</th>\n",
       "      <td>4.031250</td>\n",
       "      <td>7.063859</td>\n",
       "      <td>4.701087</td>\n",
       "      <td>5.296196</td>\n",
       "      <td>2.775815</td>\n",
       "      <td>5.437500</td>\n",
       "      <td>7.627717</td>\n",
       "      <td>5.927989</td>\n",
       "      <td>7.177989</td>\n",
       "      <td>8.773098</td>\n",
       "      <td>7.494565</td>\n",
       "      <td>11.947011</td>\n",
       "      <td>1.991848</td>\n",
       "      <td>8.876359</td>\n",
       "      <td>4.080163</td>\n",
       "      <td>8.555707</td>\n",
       "    </tr>\n",
       "    <tr>\n",
       "      <th>D</th>\n",
       "      <td>4.023602</td>\n",
       "      <td>7.244720</td>\n",
       "      <td>5.170186</td>\n",
       "      <td>5.288199</td>\n",
       "      <td>4.026087</td>\n",
       "      <td>7.539130</td>\n",
       "      <td>6.806211</td>\n",
       "      <td>5.921739</td>\n",
       "      <td>6.508075</td>\n",
       "      <td>8.166460</td>\n",
       "      <td>5.111801</td>\n",
       "      <td>5.750311</td>\n",
       "      <td>3.365217</td>\n",
       "      <td>7.813665</td>\n",
       "      <td>3.971429</td>\n",
       "      <td>7.628571</td>\n",
       "    </tr>\n",
       "    <tr>\n",
       "      <th>E</th>\n",
       "      <td>3.727865</td>\n",
       "      <td>6.944010</td>\n",
       "      <td>4.756510</td>\n",
       "      <td>5.201823</td>\n",
       "      <td>3.679688</td>\n",
       "      <td>5.966146</td>\n",
       "      <td>7.352865</td>\n",
       "      <td>4.223958</td>\n",
       "      <td>7.585938</td>\n",
       "      <td>8.507812</td>\n",
       "      <td>6.242188</td>\n",
       "      <td>10.341146</td>\n",
       "      <td>2.127604</td>\n",
       "      <td>8.298177</td>\n",
       "      <td>6.022135</td>\n",
       "      <td>8.506510</td>\n",
       "    </tr>\n",
       "  </tbody>\n",
       "</table>\n",
       "</div>"
      ],
      "text/plain": [
       "            xbox      ybox     width    height     onpix      xbar      ybar  \\\n",
       "letter                                                                         \n",
       "A       3.337136  6.975919  5.128010  5.178707  2.991128  8.851711  3.631179   \n",
       "B       3.985640  6.962141  5.088773  5.169713  4.596606  7.671018  7.062663   \n",
       "C       4.031250  7.063859  4.701087  5.296196  2.775815  5.437500  7.627717   \n",
       "D       4.023602  7.244720  5.170186  5.288199  4.026087  7.539130  6.806211   \n",
       "E       3.727865  6.944010  4.756510  5.201823  3.679688  5.966146  7.352865   \n",
       "\n",
       "           x2bar     y2bar     xybar    x2ybar     xy2bar     xedge    xedgey  \\\n",
       "letter                                                                          \n",
       "A       2.755387  2.043093  7.802281  2.338403   8.465146  2.771863  6.321926   \n",
       "B       5.366841  5.571802  7.954308  5.506527   6.652742  3.117493  7.919060   \n",
       "C       5.927989  7.177989  8.773098  7.494565  11.947011  1.991848  8.876359   \n",
       "D       5.921739  6.508075  8.166460  5.111801   5.750311  3.365217  7.813665   \n",
       "E       4.223958  7.585938  8.507812  6.242188  10.341146  2.127604  8.298177   \n",
       "\n",
       "           yedge    yedgex  \n",
       "letter                      \n",
       "A       2.875792  7.468948  \n",
       "B       6.612272  9.100522  \n",
       "C       4.080163  8.555707  \n",
       "D       3.971429  7.628571  \n",
       "E       6.022135  8.506510  "
      ]
     },
     "execution_count": 14,
     "metadata": {},
     "output_type": "execute_result"
    }
   ],
   "source": [
    "letter_means = letter_df.groupby('letter').mean()\n",
    "letter_means.head()"
   ]
  },
  {
   "cell_type": "code",
   "execution_count": 15,
   "metadata": {
    "colab": {
     "base_uri": "https://localhost:8080/",
     "height": 881
    },
    "id": "ua7EPK_pkytq",
    "outputId": "6a3e1488-d201-4436-d6d5-54ae75f9e9b5"
   },
   "outputs": [
    {
     "data": {
      "text/plain": [
       "<AxesSubplot:ylabel='letter'>"
      ]
     },
     "execution_count": 15,
     "metadata": {},
     "output_type": "execute_result"
    },
    {
     "data": {
      "image/png": "[encoded data removed]",
      "text/plain": [
       "<Figure size 1080x1080 with 2 Axes>"
      ]
     },
     "metadata": {
      "needs_background": "light"
     },
     "output_type": "display_data"
    }
   ],
   "source": [
    "fig, ax = plt.subplots(figsize=(15, 15))\n",
    "sns.heatmap(letter_means, annot = True)"
   ]
  },
  {
   "cell_type": "markdown",
   "metadata": {
    "id": "0Ciz70dzKkDJ"
   },
   "source": [
    "This heatmap shows the aggregated visualization of attribute Letter with other\n",
    "attributes. The mean values of all attributes are plotted against the attribute letter.\n",
    "From the below plot, we can see that comparing all the mean height values\n",
    "Letter Q has the highest height value. Similarly Letter M has the highest width\n",
    "value compared with the mean value of all attributes. This heatmap is helpful in\n",
    "identifying the Letter with highest mean value of all the attributes."
   ]
  },
  {
   "cell_type": "markdown",
   "metadata": {},
   "source": [
    "# Data Preprocessing"
   ]
  },
  {
   "cell_type": "code",
   "execution_count": 16,
   "metadata": {
    "colab": {
     "base_uri": "https://localhost:8080/",
     "height": 424
    },
    "id": "g34bc1mzRDgi",
    "outputId": "e1695b42-296e-4321-f25e-33c9e6ab2ce0"
   },
   "outputs": [
    {
     "data": {
      "text/html": [
       "<div>\n",
       "<style scoped>\n",
       "    .dataframe tbody tr th:only-of-type {\n",
       "        vertical-align: middle;\n",
       "    }\n",
       "\n",
       "    .dataframe tbody tr th {\n",
       "        vertical-align: top;\n",
       "    }\n",
       "\n",
       "    .dataframe thead th {\n",
       "        text-align: right;\n",
       "    }\n",
       "</style>\n",
       "<table border=\"1\" class=\"dataframe\">\n",
       "  <thead>\n",
       "    <tr style=\"text-align: right;\">\n",
       "      <th></th>\n",
       "      <th>letter</th>\n",
       "      <th>xbox</th>\n",
       "      <th>ybox</th>\n",
       "      <th>width</th>\n",
       "      <th>height</th>\n",
       "      <th>onpix</th>\n",
       "      <th>xbar</th>\n",
       "      <th>ybar</th>\n",
       "      <th>x2bar</th>\n",
       "      <th>y2bar</th>\n",
       "      <th>xybar</th>\n",
       "      <th>x2ybar</th>\n",
       "      <th>xy2bar</th>\n",
       "      <th>xedge</th>\n",
       "      <th>xedgey</th>\n",
       "      <th>yedge</th>\n",
       "      <th>yedgex</th>\n",
       "    </tr>\n",
       "  </thead>\n",
       "  <tbody>\n",
       "    <tr>\n",
       "      <th>0</th>\n",
       "      <td>T</td>\n",
       "      <td>2</td>\n",
       "      <td>8</td>\n",
       "      <td>3</td>\n",
       "      <td>5</td>\n",
       "      <td>1</td>\n",
       "      <td>8</td>\n",
       "      <td>13</td>\n",
       "      <td>0</td>\n",
       "      <td>6</td>\n",
       "      <td>6</td>\n",
       "      <td>10</td>\n",
       "      <td>8</td>\n",
       "      <td>0</td>\n",
       "      <td>8</td>\n",
       "      <td>0</td>\n",
       "      <td>8</td>\n",
       "    </tr>\n",
       "    <tr>\n",
       "      <th>1</th>\n",
       "      <td>I</td>\n",
       "      <td>5</td>\n",
       "      <td>12</td>\n",
       "      <td>3</td>\n",
       "      <td>7</td>\n",
       "      <td>2</td>\n",
       "      <td>10</td>\n",
       "      <td>5</td>\n",
       "      <td>5</td>\n",
       "      <td>4</td>\n",
       "      <td>13</td>\n",
       "      <td>3</td>\n",
       "      <td>9</td>\n",
       "      <td>2</td>\n",
       "      <td>8</td>\n",
       "      <td>4</td>\n",
       "      <td>10</td>\n",
       "    </tr>\n",
       "    <tr>\n",
       "      <th>2</th>\n",
       "      <td>D</td>\n",
       "      <td>4</td>\n",
       "      <td>11</td>\n",
       "      <td>6</td>\n",
       "      <td>8</td>\n",
       "      <td>6</td>\n",
       "      <td>10</td>\n",
       "      <td>6</td>\n",
       "      <td>2</td>\n",
       "      <td>6</td>\n",
       "      <td>10</td>\n",
       "      <td>3</td>\n",
       "      <td>7</td>\n",
       "      <td>3</td>\n",
       "      <td>7</td>\n",
       "      <td>3</td>\n",
       "      <td>9</td>\n",
       "    </tr>\n",
       "    <tr>\n",
       "      <th>3</th>\n",
       "      <td>N</td>\n",
       "      <td>7</td>\n",
       "      <td>11</td>\n",
       "      <td>6</td>\n",
       "      <td>6</td>\n",
       "      <td>3</td>\n",
       "      <td>5</td>\n",
       "      <td>9</td>\n",
       "      <td>4</td>\n",
       "      <td>6</td>\n",
       "      <td>4</td>\n",
       "      <td>4</td>\n",
       "      <td>10</td>\n",
       "      <td>6</td>\n",
       "      <td>10</td>\n",
       "      <td>2</td>\n",
       "      <td>8</td>\n",
       "    </tr>\n",
       "    <tr>\n",
       "      <th>4</th>\n",
       "      <td>G</td>\n",
       "      <td>2</td>\n",
       "      <td>1</td>\n",
       "      <td>3</td>\n",
       "      <td>1</td>\n",
       "      <td>1</td>\n",
       "      <td>8</td>\n",
       "      <td>6</td>\n",
       "      <td>6</td>\n",
       "      <td>6</td>\n",
       "      <td>6</td>\n",
       "      <td>5</td>\n",
       "      <td>9</td>\n",
       "      <td>1</td>\n",
       "      <td>7</td>\n",
       "      <td>5</td>\n",
       "      <td>10</td>\n",
       "    </tr>\n",
       "    <tr>\n",
       "      <th>...</th>\n",
       "      <td>...</td>\n",
       "      <td>...</td>\n",
       "      <td>...</td>\n",
       "      <td>...</td>\n",
       "      <td>...</td>\n",
       "      <td>...</td>\n",
       "      <td>...</td>\n",
       "      <td>...</td>\n",
       "      <td>...</td>\n",
       "      <td>...</td>\n",
       "      <td>...</td>\n",
       "      <td>...</td>\n",
       "      <td>...</td>\n",
       "      <td>...</td>\n",
       "      <td>...</td>\n",
       "      <td>...</td>\n",
       "      <td>...</td>\n",
       "    </tr>\n",
       "    <tr>\n",
       "      <th>19995</th>\n",
       "      <td>D</td>\n",
       "      <td>2</td>\n",
       "      <td>2</td>\n",
       "      <td>3</td>\n",
       "      <td>3</td>\n",
       "      <td>2</td>\n",
       "      <td>7</td>\n",
       "      <td>7</td>\n",
       "      <td>7</td>\n",
       "      <td>6</td>\n",
       "      <td>6</td>\n",
       "      <td>6</td>\n",
       "      <td>4</td>\n",
       "      <td>2</td>\n",
       "      <td>8</td>\n",
       "      <td>3</td>\n",
       "      <td>7</td>\n",
       "    </tr>\n",
       "    <tr>\n",
       "      <th>19996</th>\n",
       "      <td>C</td>\n",
       "      <td>7</td>\n",
       "      <td>10</td>\n",
       "      <td>8</td>\n",
       "      <td>8</td>\n",
       "      <td>4</td>\n",
       "      <td>4</td>\n",
       "      <td>8</td>\n",
       "      <td>6</td>\n",
       "      <td>9</td>\n",
       "      <td>12</td>\n",
       "      <td>9</td>\n",
       "      <td>13</td>\n",
       "      <td>2</td>\n",
       "      <td>9</td>\n",
       "      <td>3</td>\n",
       "      <td>7</td>\n",
       "    </tr>\n",
       "    <tr>\n",
       "      <th>19997</th>\n",
       "      <td>T</td>\n",
       "      <td>6</td>\n",
       "      <td>9</td>\n",
       "      <td>6</td>\n",
       "      <td>7</td>\n",
       "      <td>5</td>\n",
       "      <td>6</td>\n",
       "      <td>11</td>\n",
       "      <td>3</td>\n",
       "      <td>7</td>\n",
       "      <td>11</td>\n",
       "      <td>9</td>\n",
       "      <td>5</td>\n",
       "      <td>2</td>\n",
       "      <td>12</td>\n",
       "      <td>2</td>\n",
       "      <td>4</td>\n",
       "    </tr>\n",
       "    <tr>\n",
       "      <th>19998</th>\n",
       "      <td>S</td>\n",
       "      <td>2</td>\n",
       "      <td>3</td>\n",
       "      <td>4</td>\n",
       "      <td>2</td>\n",
       "      <td>1</td>\n",
       "      <td>8</td>\n",
       "      <td>7</td>\n",
       "      <td>2</td>\n",
       "      <td>6</td>\n",
       "      <td>10</td>\n",
       "      <td>6</td>\n",
       "      <td>8</td>\n",
       "      <td>1</td>\n",
       "      <td>9</td>\n",
       "      <td>5</td>\n",
       "      <td>8</td>\n",
       "    </tr>\n",
       "    <tr>\n",
       "      <th>19999</th>\n",
       "      <td>A</td>\n",
       "      <td>4</td>\n",
       "      <td>9</td>\n",
       "      <td>6</td>\n",
       "      <td>6</td>\n",
       "      <td>2</td>\n",
       "      <td>9</td>\n",
       "      <td>5</td>\n",
       "      <td>3</td>\n",
       "      <td>1</td>\n",
       "      <td>8</td>\n",
       "      <td>1</td>\n",
       "      <td>8</td>\n",
       "      <td>2</td>\n",
       "      <td>7</td>\n",
       "      <td>2</td>\n",
       "      <td>8</td>\n",
       "    </tr>\n",
       "  </tbody>\n",
       "</table>\n",
       "<p>20000 rows × 17 columns</p>\n",
       "</div>"
      ],
      "text/plain": [
       "      letter  xbox  ybox  width  height  onpix  xbar  ybar  x2bar  y2bar  \\\n",
       "0          T     2     8      3       5      1     8    13      0      6   \n",
       "1          I     5    12      3       7      2    10     5      5      4   \n",
       "2          D     4    11      6       8      6    10     6      2      6   \n",
       "3          N     7    11      6       6      3     5     9      4      6   \n",
       "4          G     2     1      3       1      1     8     6      6      6   \n",
       "...      ...   ...   ...    ...     ...    ...   ...   ...    ...    ...   \n",
       "19995      D     2     2      3       3      2     7     7      7      6   \n",
       "19996      C     7    10      8       8      4     4     8      6      9   \n",
       "19997      T     6     9      6       7      5     6    11      3      7   \n",
       "19998      S     2     3      4       2      1     8     7      2      6   \n",
       "19999      A     4     9      6       6      2     9     5      3      1   \n",
       "\n",
       "       xybar  x2ybar  xy2bar  xedge  xedgey  yedge  yedgex  \n",
       "0          6      10       8      0       8      0       8  \n",
       "1         13       3       9      2       8      4      10  \n",
       "2         10       3       7      3       7      3       9  \n",
       "3          4       4      10      6      10      2       8  \n",
       "4          6       5       9      1       7      5      10  \n",
       "...      ...     ...     ...    ...     ...    ...     ...  \n",
       "19995      6       6       4      2       8      3       7  \n",
       "19996     12       9      13      2       9      3       7  \n",
       "19997     11       9       5      2      12      2       4  \n",
       "19998     10       6       8      1       9      5       8  \n",
       "19999      8       1       8      2       7      2       8  \n",
       "\n",
       "[20000 rows x 17 columns]"
      ]
     },
     "execution_count": 16,
     "metadata": {},
     "output_type": "execute_result"
    }
   ],
   "source": [
    "letter_df"
   ]
  },
  {
   "cell_type": "markdown",
   "metadata": {},
   "source": [
    "## Checking for missing/null values"
   ]
  },
  {
   "cell_type": "code",
   "execution_count": 249,
   "metadata": {},
   "outputs": [
    {
     "data": {
      "text/plain": [
       "letter    0\n",
       "xbox      0\n",
       "ybox      0\n",
       "width     0\n",
       "height    0\n",
       "onpix     0\n",
       "xbar      0\n",
       "ybar      0\n",
       "x2bar     0\n",
       "y2bar     0\n",
       "xybar     0\n",
       "x2ybar    0\n",
       "xy2bar    0\n",
       "xedge     0\n",
       "xedgey    0\n",
       "yedge     0\n",
       "yedgex    0\n",
       "dtype: int64"
      ]
     },
     "execution_count": 249,
     "metadata": {},
     "output_type": "execute_result"
    }
   ],
   "source": [
    "letter_df.isna().sum()\n"
   ]
  },
  {
   "cell_type": "code",
   "execution_count": 247,
   "metadata": {
    "colab": {
     "base_uri": "https://localhost:8080/"
    },
    "id": "aTjPSTIQQUPA",
    "outputId": "bcc4431f-5367-4499-ab88-756c7fe30ccb"
   },
   "outputs": [
    {
     "data": {
      "text/plain": [
       "letter    0\n",
       "xbox      0\n",
       "ybox      0\n",
       "width     0\n",
       "height    0\n",
       "onpix     0\n",
       "xbar      0\n",
       "ybar      0\n",
       "x2bar     0\n",
       "y2bar     0\n",
       "xybar     0\n",
       "x2ybar    0\n",
       "xy2bar    0\n",
       "xedge     0\n",
       "xedgey    0\n",
       "yedge     0\n",
       "yedgex    0\n",
       "dtype: int64"
      ]
     },
     "execution_count": 247,
     "metadata": {},
     "output_type": "execute_result"
    }
   ],
   "source": [
    "letter_df.isnull().sum()"
   ]
  },
  {
   "cell_type": "markdown",
   "metadata": {},
   "source": [
    "Since there are no null or missing values in the dataset, imputation is not required for this data."
   ]
  },
  {
   "cell_type": "markdown",
   "metadata": {},
   "source": [
    "## Encoding Categorical Columns"
   ]
  },
  {
   "cell_type": "code",
   "execution_count": 45,
   "metadata": {},
   "outputs": [],
   "source": [
    "labelencoder = LabelEncoder()\n",
    "letter_df['letter'] = labelencoder.fit_transform(letter_df['letter']) "
   ]
  },
  {
   "cell_type": "markdown",
   "metadata": {},
   "source": [
    "In this dataset, the column “letter” is a categorical variable. To handle this, we converted categorical variable to numerical variable using Label Encoder."
   ]
  },
  {
   "cell_type": "markdown",
   "metadata": {
    "id": "tCAz1NWzKuJl"
   },
   "source": [
    "## Defining input features and target variable"
   ]
  },
  {
   "cell_type": "code",
   "execution_count": 46,
   "metadata": {
    "id": "W28ZQsFmR_sR"
   },
   "outputs": [],
   "source": [
    "X=letter_df.iloc[:,1:].values\n",
    "y=letter_df.iloc[:,0].values"
   ]
  },
  {
   "cell_type": "markdown",
   "metadata": {},
   "source": [
    "In this dataset, the target variable is the column \"Letter\". \n",
    "So, we have defined the target variable y with one column and \n",
    "all the other columns are defined as input features X."
   ]
  },
  {
   "cell_type": "markdown",
   "metadata": {
    "id": "xbDULg1jKsB2"
   },
   "source": [
    "## Scaling the Dataset"
   ]
  },
  {
   "cell_type": "code",
   "execution_count": 47,
   "metadata": {
    "id": "FOsM_yRMpwKo"
   },
   "outputs": [],
   "source": [
    "sc = StandardScaler()\n",
    "X = sc.fit_transform(X)"
   ]
  },
  {
   "cell_type": "markdown",
   "metadata": {},
   "source": [
    "Input features in this dataset are in various dimensions and scales which might affect the modeling and it leads to a biased outcome in terms of error and accuracy rates. Hence, we are scaling the data before modeling using Standard Scaler"
   ]
  },
  {
   "cell_type": "code",
   "execution_count": 48,
   "metadata": {
    "colab": {
     "base_uri": "https://localhost:8080/"
    },
    "id": "fT2w_4X3Y9nk",
    "outputId": "d5423c5c-cbe5-4263-b1a3-e57ad2415c50"
   },
   "outputs": [
    {
     "data": {
      "text/plain": [
       "((20000, 16), (20000,))"
      ]
     },
     "execution_count": 48,
     "metadata": {},
     "output_type": "execute_result"
    }
   ],
   "source": [
    "X.shape,y.shape"
   ]
  },
  {
   "cell_type": "markdown",
   "metadata": {
    "id": "_DE8tf3uKoxg"
   },
   "source": [
    "## Splitting the Dataset"
   ]
  },
  {
   "cell_type": "code",
   "execution_count": 49,
   "metadata": {
    "id": "WdPQfUCLa15c"
   },
   "outputs": [],
   "source": [
    "Xtrain, Xtest, Ytrain, Ytest = train_test_split( X, y, test_size = 0.2,random_state=42)"
   ]
  },
  {
   "cell_type": "markdown",
   "metadata": {},
   "source": [
    "The dataset is divided into 80 % training data and 20 % test data where we fit the model on the training data and predict or evaluate on the test data."
   ]
  },
  {
   "cell_type": "markdown",
   "metadata": {},
   "source": [
    "# Building Multi-Class Classification Models"
   ]
  },
  {
   "cell_type": "markdown",
   "metadata": {
    "id": "uIPYQP6dLJkb"
   },
   "source": [
    "Here we are going to build few multi-class classification models to classify the 26 English letters from A to Z."
   ]
  },
  {
   "cell_type": "markdown",
   "metadata": {
    "id": "8WJBGlPlK0PM"
   },
   "source": [
    "# SVM Classifier"
   ]
  },
  {
   "cell_type": "code",
   "execution_count": 77,
   "metadata": {
    "id": "z2jVlKT4q1sX"
   },
   "outputs": [],
   "source": [
    "def projection_simplex(v, z=1):\n",
    "    n_features = v.shape[0]\n",
    "    u = np.sort(v)[::-1]\n",
    "    cssv = np.cumsum(u) - z\n",
    "    ind = np.arange(n_features) + 1\n",
    "    cond = u - cssv / ind > 0\n",
    "    rho = ind[cond][-1]\n",
    "    theta = cssv[cond][-1] / float(rho)\n",
    "    w = np.maximum(v - theta, 0)\n",
    "    return w\n",
    "\n",
    "class MulticlassSVM(BaseEstimator, ClassifierMixin):\n",
    "    def __init__(self, C=1, max_iter=50, tol=0.05,\n",
    "                 random_state=None, verbose=0):\n",
    "        self.C = C\n",
    "        self.max_iter = max_iter\n",
    "        self.tol = tol,\n",
    "        self.random_state = random_state\n",
    "        self.verbose = verbose\n",
    "        \n",
    "    def _partial_gradient(self, X, y, i):\n",
    "        # Partial gradient for the ith sample.\n",
    "        g = np.dot(X[i], self.coef_.T) + 1\n",
    "        g[y[i]] -= 1\n",
    "        return g\n",
    "\n",
    "    def _violation(self, g, y, i):\n",
    "        # Optimality violation for the ith sample.\n",
    "        smallest = np.inf\n",
    "        for k in range(g.shape[0]):\n",
    "            if k == y[i] and self.dual_coef_[k, i] >= self.C:\n",
    "                continue\n",
    "            elif k != y[i] and self.dual_coef_[k, i] >= 0:\n",
    "                continue\n",
    "            smallest = min(smallest, g[k])\n",
    "        return g.max() - smallest\n",
    "\n",
    "    def _solve_subproblem(self, g, y, norms, i):\n",
    "        # Prepare inputs to the projection.\n",
    "        Ci = np.zeros(g.shape[0])\n",
    "        Ci[y[i]] = self.C\n",
    "        beta_hat = norms[i] * (Ci - self.dual_coef_[:, i]) + g / norms[i]\n",
    "        z = self.C * norms[i]\n",
    "        # Compute projection onto the simplex.\n",
    "        beta = projection_simplex(beta_hat, z)\n",
    "        return Ci - self.dual_coef_[:, i] - beta / norms[i]\n",
    "\n",
    "    def fit(self, X, y):\n",
    "        n_samples, n_features = X.shape\n",
    "        # Normalize labels.\n",
    "        self._label_encoder = LabelEncoder()\n",
    "        y = self._label_encoder.fit_transform(y)\n",
    "        # Initialize primal and dual coefficients.\n",
    "        n_classes = len(self._label_encoder.classes_)\n",
    "        self.dual_coef_ = np.zeros((n_classes, n_samples), dtype=np.float64)\n",
    "        self.coef_ = np.zeros((n_classes, n_features))\n",
    "        # Pre-compute norms.\n",
    "        norms = np.sqrt(np.sum(X ** 2, axis=1))\n",
    "        # Shuffle sample indices.\n",
    "        rs = check_random_state(self.random_state)\n",
    "        ind = np.arange(n_samples)\n",
    "        rs.shuffle(ind)\n",
    "        violation_init = None\n",
    "        for it in range(self.max_iter):\n",
    "            violation_sum = 0\n",
    "            for ii in range(n_samples):\n",
    "                i = ind[ii]\n",
    "                # All-zero samples can be safely ignored.\n",
    "                if norms[i] == 0:\n",
    "                    continue\n",
    "                g = self._partial_gradient(X, y, i)\n",
    "                v = self._violation(g, y, i)\n",
    "                violation_sum += v\n",
    "                if v < 1e-12:\n",
    "                    continue\n",
    "                # Solve subproblem for the ith sample.\n",
    "                delta = self._solve_subproblem(g, y, norms, i)\n",
    "                # Update primal and dual coefficients.\n",
    "                self.coef_ += (delta * X[i][:, np.newaxis]).T\n",
    "                self.dual_coef_[:, i] += delta\n",
    "            if it == 0:\n",
    "                violation_init = violation_sum\n",
    "            vratio = violation_sum / violation_init\n",
    "            if self.verbose >= 1:\n",
    "                print(\"iter\", it + 1, \"violation\", round(vratio,4))\n",
    "            if vratio < self.tol:\n",
    "                if self.verbose >= 1:\n",
    "                    print(\"Converged\")\n",
    "                break\n",
    "        return self\n",
    "\n",
    "    def predict(self, X):\n",
    "        decision = np.dot(X, self.coef_.T)\n",
    "        pred = decision.argmax(axis=1)\n",
    "        return self._label_encoder.inverse_transform(pred)"
   ]
  },
  {
   "cell_type": "code",
   "execution_count": 78,
   "metadata": {
    "id": "Y8oMvMd_B9tr"
   },
   "outputs": [],
   "source": [
    "def accuracy_metric(actual, predicted):\n",
    "    correct = 0\n",
    "    for i in range(len(actual)):\n",
    "        if actual[i] == predicted[i]:\n",
    "            correct += 1\n",
    "    return correct / float(len(actual)) * 100.0"
   ]
  },
  {
   "cell_type": "code",
   "execution_count": 79,
   "metadata": {
    "id": "AigtCDZEAFXO"
   },
   "outputs": [],
   "source": [
    "def comp_confmat(actual, predicted):\n",
    "\n",
    "    # extract the different classes\n",
    "    classes = np.unique(actual)\n",
    "\n",
    "    # initialize the confusion matrix\n",
    "    confmat = np.zeros((len(classes), len(classes)))\n",
    "\n",
    "    # loop across the different combinations of actual / predicted classes\n",
    "    for i in range(len(classes)):\n",
    "        for j in range(len(classes)):\n",
    "\n",
    "           # count the number of instances in each combination of actual / predicted classes\n",
    "           confmat[i, j] = np.sum((actual == classes[i]) & (predicted == classes[j]))\n",
    "\n",
    "    return confmat\n"
   ]
  },
  {
   "cell_type": "code",
   "execution_count": 80,
   "metadata": {
    "colab": {
     "base_uri": "https://localhost:8080/"
    },
    "id": "oTZ4JidOrXZZ",
    "outputId": "8b412d0f-b6a2-4830-d952-62571246443b"
   },
   "outputs": [
    {
     "name": "stdout",
     "output_type": "stream",
     "text": [
      "iter 1 violation 1.0\n",
      "iter 2 violation 0.7692\n",
      "iter 3 violation 0.4776\n",
      "iter 4 violation 0.3271\n",
      "iter 5 violation 0.2389\n",
      "iter 6 violation 0.1916\n",
      "iter 7 violation 0.157\n",
      "iter 8 violation 0.1309\n",
      "iter 9 violation 0.1122\n",
      "iter 10 violation 0.0975\n",
      "iter 11 violation 0.086\n",
      "iter 12 violation 0.0764\n",
      "iter 13 violation 0.0685\n",
      "iter 14 violation 0.0617\n",
      "iter 15 violation 0.056\n",
      "iter 16 violation 0.0516\n",
      "iter 17 violation 0.0484\n",
      "iter 18 violation 0.0447\n",
      "iter 19 violation 0.042\n",
      "iter 20 violation 0.0387\n",
      "iter 21 violation 0.0362\n",
      "iter 22 violation 0.0337\n",
      "iter 23 violation 0.032\n",
      "iter 24 violation 0.0303\n",
      "iter 25 violation 0.0286\n",
      "iter 26 violation 0.0271\n",
      "iter 27 violation 0.0255\n",
      "iter 28 violation 0.0242\n",
      "iter 29 violation 0.023\n",
      "iter 30 violation 0.022\n",
      "iter 31 violation 0.0213\n",
      "iter 32 violation 0.0202\n",
      "iter 33 violation 0.0193\n",
      "iter 34 violation 0.0186\n",
      "iter 35 violation 0.018\n",
      "iter 36 violation 0.0174\n",
      "iter 37 violation 0.0167\n",
      "iter 38 violation 0.0161\n",
      "iter 39 violation 0.0155\n",
      "iter 40 violation 0.015\n",
      "iter 41 violation 0.0144\n",
      "iter 42 violation 0.0139\n",
      "iter 43 violation 0.0133\n",
      "iter 44 violation 0.0129\n",
      "iter 45 violation 0.0128\n",
      "iter 46 violation 0.0124\n",
      "iter 47 violation 0.012\n",
      "iter 48 violation 0.0116\n",
      "iter 49 violation 0.0111\n",
      "iter 50 violation 0.0109\n",
      "iter 51 violation 0.0107\n",
      "iter 52 violation 0.0104\n",
      "iter 53 violation 0.0101\n",
      "iter 54 violation 0.0097\n",
      "Converged\n",
      "Accuracy of SVM is  0.7504\n"
     ]
    }
   ],
   "source": [
    "multiSVMmodel = MulticlassSVM(C=0.1, tol=0.01, max_iter=100, random_state=0, verbose=1)\n",
    "multiSVMmodel.fit(X, y)\n",
    "print(\"Accuracy of SVM is \",round(multiSVMmodel.score(X, y),4))"
   ]
  },
  {
   "cell_type": "code",
   "execution_count": 81,
   "metadata": {
    "id": "AI5f1p6Ww2eR"
   },
   "outputs": [],
   "source": [
    "ypred_SVM = multiSVMmodel.predict(Xtest)"
   ]
  },
  {
   "cell_type": "code",
   "execution_count": 82,
   "metadata": {
    "colab": {
     "base_uri": "https://localhost:8080/"
    },
    "id": "9TLqkAJyw0CA",
    "outputId": "d7804d4e-6dc2-47a4-9754-8c0396a929b5"
   },
   "outputs": [
    {
     "name": "stdout",
     "output_type": "stream",
     "text": [
      "Print Class: 0\n",
      "TP=134, FP=35, TN=3816, FN=15\n",
      "Sensitivity: 0.899\n",
      "Specificity: 0.991\n",
      "Accuracy: 0.988\n",
      "Balanced Accuracy: 0.945\n",
      "Precision: 0.793\n",
      "F1-Score: 0.843\n",
      "MCC: 0.838\n",
      "\n",
      "Print Class: 1\n",
      "TP=115, FP=45, TN=3802, FN=38\n",
      "Sensitivity: 0.752\n",
      "Specificity: 0.988\n",
      "Accuracy: 0.979\n",
      "Balanced Accuracy: 0.87\n",
      "Precision: 0.719\n",
      "F1-Score: 0.735\n",
      "MCC: 0.724\n",
      "\n",
      "Print Class: 2\n",
      "TP=99, FP=36, TN=3827, FN=38\n",
      "Sensitivity: 0.723\n",
      "Specificity: 0.991\n",
      "Accuracy: 0.982\n",
      "Balanced Accuracy: 0.857\n",
      "Precision: 0.733\n",
      "F1-Score: 0.728\n",
      "MCC: 0.718\n",
      "\n",
      "Print Class: 3\n",
      "TP=131, FP=52, TN=3792, FN=25\n",
      "Sensitivity: 0.84\n",
      "Specificity: 0.986\n",
      "Accuracy: 0.981\n",
      "Balanced Accuracy: 0.913\n",
      "Precision: 0.716\n",
      "F1-Score: 0.773\n",
      "MCC: 0.766\n",
      "\n",
      "Print Class: 4\n",
      "TP=116, FP=50, TN=3809, FN=25\n",
      "Sensitivity: 0.823\n",
      "Specificity: 0.987\n",
      "Accuracy: 0.981\n",
      "Balanced Accuracy: 0.905\n",
      "Precision: 0.699\n",
      "F1-Score: 0.756\n",
      "MCC: 0.749\n",
      "\n",
      "Print Class: 5\n",
      "TP=92, FP=25, TN=3835, FN=48\n",
      "Sensitivity: 0.657\n",
      "Specificity: 0.994\n",
      "Accuracy: 0.982\n",
      "Balanced Accuracy: 0.826\n",
      "Precision: 0.786\n",
      "F1-Score: 0.716\n",
      "MCC: 0.71\n",
      "\n",
      "Print Class: 6\n",
      "TP=73, FP=29, TN=3811, FN=87\n",
      "Sensitivity: 0.456\n",
      "Specificity: 0.992\n",
      "Accuracy: 0.971\n",
      "Balanced Accuracy: 0.724\n",
      "Precision: 0.716\n",
      "F1-Score: 0.557\n",
      "MCC: 0.558\n",
      "\n",
      "Print Class: 7\n",
      "TP=48, FP=38, TN=3818, FN=96\n",
      "Sensitivity: 0.333\n",
      "Specificity: 0.99\n",
      "Accuracy: 0.966\n",
      "Balanced Accuracy: 0.662\n",
      "Precision: 0.558\n",
      "F1-Score: 0.417\n",
      "MCC: 0.415\n",
      "\n",
      "Print Class: 8\n",
      "TP=119, FP=22, TN=3832, FN=27\n",
      "Sensitivity: 0.815\n",
      "Specificity: 0.994\n",
      "Accuracy: 0.988\n",
      "Balanced Accuracy: 0.904\n",
      "Precision: 0.844\n",
      "F1-Score: 0.829\n",
      "MCC: 0.823\n",
      "\n",
      "Print Class: 9\n",
      "TP=121, FP=24, TN=3827, FN=28\n",
      "Sensitivity: 0.812\n",
      "Specificity: 0.994\n",
      "Accuracy: 0.987\n",
      "Balanced Accuracy: 0.903\n",
      "Precision: 0.834\n",
      "F1-Score: 0.823\n",
      "MCC: 0.816\n",
      "\n",
      "Print Class: 10\n",
      "TP=90, FP=50, TN=3820, FN=40\n",
      "Sensitivity: 0.692\n",
      "Specificity: 0.987\n",
      "Accuracy: 0.978\n",
      "Balanced Accuracy: 0.839\n",
      "Precision: 0.643\n",
      "F1-Score: 0.667\n",
      "MCC: 0.656\n",
      "\n",
      "Print Class: 11\n",
      "TP=131, FP=19, TN=3826, FN=24\n",
      "Sensitivity: 0.845\n",
      "Specificity: 0.995\n",
      "Accuracy: 0.989\n",
      "Balanced Accuracy: 0.92\n",
      "Precision: 0.873\n",
      "F1-Score: 0.859\n",
      "MCC: 0.854\n",
      "\n",
      "Print Class: 12\n",
      "TP=152, FP=48, TN=3784, FN=16\n",
      "Sensitivity: 0.905\n",
      "Specificity: 0.987\n",
      "Accuracy: 0.984\n",
      "Balanced Accuracy: 0.946\n",
      "Precision: 0.76\n",
      "F1-Score: 0.826\n",
      "MCC: 0.821\n",
      "\n",
      "Print Class: 13\n",
      "TP=114, FP=21, TN=3828, FN=37\n",
      "Sensitivity: 0.755\n",
      "Specificity: 0.995\n",
      "Accuracy: 0.986\n",
      "Balanced Accuracy: 0.875\n",
      "Precision: 0.844\n",
      "F1-Score: 0.797\n",
      "MCC: 0.791\n",
      "\n",
      "Print Class: 14\n",
      "TP=78, FP=38, TN=3817, FN=67\n",
      "Sensitivity: 0.538\n",
      "Specificity: 0.99\n",
      "Accuracy: 0.974\n",
      "Balanced Accuracy: 0.764\n",
      "Precision: 0.672\n",
      "F1-Score: 0.598\n",
      "MCC: 0.588\n",
      "\n",
      "Print Class: 15\n",
      "TP=147, FP=29, TN=3798, FN=26\n",
      "Sensitivity: 0.85\n",
      "Specificity: 0.992\n",
      "Accuracy: 0.986\n",
      "Balanced Accuracy: 0.921\n",
      "Precision: 0.835\n",
      "F1-Score: 0.842\n",
      "MCC: 0.835\n",
      "\n",
      "Print Class: 16\n",
      "TP=125, FP=54, TN=3780, FN=41\n",
      "Sensitivity: 0.753\n",
      "Specificity: 0.986\n",
      "Accuracy: 0.976\n",
      "Balanced Accuracy: 0.869\n",
      "Precision: 0.698\n",
      "F1-Score: 0.725\n",
      "MCC: 0.713\n",
      "\n",
      "Print Class: 17\n",
      "TP=133, FP=60, TN=3780, FN=27\n",
      "Sensitivity: 0.831\n",
      "Specificity: 0.984\n",
      "Accuracy: 0.978\n",
      "Balanced Accuracy: 0.908\n",
      "Precision: 0.689\n",
      "F1-Score: 0.754\n",
      "MCC: 0.746\n",
      "\n",
      "Print Class: 18\n",
      "TP=94, FP=48, TN=3781, FN=77\n",
      "Sensitivity: 0.55\n",
      "Specificity: 0.987\n",
      "Accuracy: 0.969\n",
      "Balanced Accuracy: 0.768\n",
      "Precision: 0.662\n",
      "F1-Score: 0.601\n",
      "MCC: 0.587\n",
      "\n",
      "Print Class: 19\n",
      "TP=142, FP=52, TN=3785, FN=21\n",
      "Sensitivity: 0.871\n",
      "Specificity: 0.986\n",
      "Accuracy: 0.982\n",
      "Balanced Accuracy: 0.928\n",
      "Precision: 0.732\n",
      "F1-Score: 0.796\n",
      "MCC: 0.789\n",
      "\n",
      "Print Class: 20\n",
      "TP=158, FP=28, TN=3789, FN=25\n",
      "Sensitivity: 0.863\n",
      "Specificity: 0.993\n",
      "Accuracy: 0.987\n",
      "Balanced Accuracy: 0.928\n",
      "Precision: 0.849\n",
      "F1-Score: 0.856\n",
      "MCC: 0.849\n",
      "\n",
      "Print Class: 21\n",
      "TP=138, FP=24, TN=3818, FN=20\n",
      "Sensitivity: 0.873\n",
      "Specificity: 0.994\n",
      "Accuracy: 0.989\n",
      "Balanced Accuracy: 0.934\n",
      "Precision: 0.852\n",
      "F1-Score: 0.862\n",
      "MCC: 0.857\n",
      "\n",
      "Print Class: 22\n",
      "TP=136, FP=36, TN=3816, FN=12\n",
      "Sensitivity: 0.919\n",
      "Specificity: 0.991\n",
      "Accuracy: 0.988\n",
      "Balanced Accuracy: 0.955\n",
      "Precision: 0.791\n",
      "F1-Score: 0.85\n",
      "MCC: 0.846\n",
      "\n",
      "Print Class: 23\n",
      "TP=128, FP=28, TN=3818, FN=26\n",
      "Sensitivity: 0.831\n",
      "Specificity: 0.993\n",
      "Accuracy: 0.986\n",
      "Balanced Accuracy: 0.912\n",
      "Precision: 0.821\n",
      "F1-Score: 0.826\n",
      "MCC: 0.819\n",
      "\n",
      "Print Class: 24\n",
      "TP=122, FP=36, TN=3796, FN=46\n",
      "Sensitivity: 0.726\n",
      "Specificity: 0.991\n",
      "Accuracy: 0.98\n",
      "Balanced Accuracy: 0.858\n",
      "Precision: 0.772\n",
      "F1-Score: 0.748\n",
      "MCC: 0.738\n",
      "\n",
      "Print Class: 25\n",
      "TP=95, FP=42, TN=3826, FN=37\n",
      "Sensitivity: 0.72\n",
      "Specificity: 0.989\n",
      "Accuracy: 0.98\n",
      "Balanced Accuracy: 0.854\n",
      "Precision: 0.693\n",
      "F1-Score: 0.706\n",
      "MCC: 0.696\n",
      "\n"
     ]
    }
   ],
   "source": [
    "lst_actual_class = Ytest\n",
    "lst_predicted_class = ypred_SVM\n",
    "\n",
    "# Class = Label A-Z\n",
    "lst_classes = ['0', '1', '2', '3', '4', '5', '6', '7', '8', '9', '10', '11', '12', '13', '14', '15', '16', '17', '18', '19', '20', '21', '22', '23', '24', '25' ]\n",
    "\n",
    "\n",
    "# Compute multi-class confusion matrix\n",
    "#arr_out_matrix = multilabel_confusion_matrix(lst_actual_class, lst_predicted_class, labels=lst_classes)\n",
    "# Temp store results\n",
    "store_sens = [];\n",
    "store_spec = [];\n",
    "store_acc = [];\n",
    "store_bal_acc = [];\n",
    "store_prec = [];\n",
    "store_fscore = [];\n",
    "store_mcc = [];\n",
    "for no_class in range(len(lst_classes)):\n",
    "    arr_data = arr_out_matrix[no_class];\n",
    "    print(\"Print Class: {0}\".format(no_class));\n",
    "\n",
    "    tp = arr_data[1][1]\n",
    "    fp = arr_data[0][1]\n",
    "    tn = arr_data[0][0]\n",
    "    fn = arr_data[1][0]\n",
    "    \n",
    "    \n",
    "    sensitivity = round(tp/(tp+fn), 3);\n",
    "    specificity = round(tn/(tn+fp), 3);\n",
    "    accuracy = round((tp+tn)/(tp+fp+tn+fn), 3);\n",
    "    balanced_accuracy = round((sensitivity+specificity)/2, 3);\n",
    "    \n",
    "    precision = round(tp/(tp+fp), 3);\n",
    "    f1Score = round((2*tp/(2*tp + fp + fn)), 3);\n",
    "    \n",
    "    x = (tp+fp) * (tp+fn) * (tn+fp) * (tn+fn)\n",
    "    MCC = round(((tp * tn) - (fp * fn)) / sqrt(x), 3)\n",
    "    store_sens.append(sensitivity);\n",
    "    store_spec.append(specificity);\n",
    "    store_acc.append(accuracy);\n",
    "    store_bal_acc.append(balanced_accuracy);\n",
    "    store_prec.append(precision);\n",
    "    store_fscore.append(f1Score);\n",
    "    store_mcc.append(MCC);\n",
    "    print(\"TP={0}, FP={1}, TN={2}, FN={3}\".format(tp, fp, tn, fn));\n",
    "    print(\"Sensitivity: {0}\".format(sensitivity));\n",
    "    print(\"Specificity: {0}\".format(specificity));\n",
    "    print(\"Accuracy: {0}\".format(accuracy));\n",
    "    print(\"Balanced Accuracy: {0}\".format(balanced_accuracy));\n",
    "    \n",
    "    print(\"Precision: {0}\".format(precision));\n",
    "    print(\"F1-Score: {0}\".format(f1Score));\n",
    "    print(\"MCC: {0}\\n\".format(MCC));"
   ]
  },
  {
   "cell_type": "code",
   "execution_count": 83,
   "metadata": {
    "colab": {
     "base_uri": "https://localhost:8080/"
    },
    "id": "gjjeG_Zo0dJB",
    "outputId": "4ccf5e66-abf4-4478-d182-ffdd5d6c73ab"
   },
   "outputs": [
    {
     "name": "stdout",
     "output_type": "stream",
     "text": [
      "Overall Performance Prediction:\n",
      "Sensitivity: 75.5077%\n",
      "Specificity: 99.0269%\n",
      "Accuracy: 98.1423%\n",
      "Balanced Accuracy: 87.2615%\n",
      "Precision: 75.3231%\n",
      "F1-Score: 74.9615%\n",
      "MCC: 0.7424\n",
      "\n"
     ]
    }
   ],
   "source": [
    "print(\"Overall Performance Prediction:\");\n",
    "print(\"Sensitivity: {0}%\".format(round(mean(store_sens)*100, 4)));\n",
    "print(\"Specificity: {0}%\".format(round(mean(store_spec)*100, 4)));\n",
    "print(\"Accuracy: {0}%\".format(round(mean(store_acc)*100, 4)));\n",
    "print(\"Balanced Accuracy: {0}%\".format(round(mean(store_bal_acc)*100, 4)));\n",
    "print(\"Precision: {0}%\".format(round(mean(store_prec)*100, 4)));\n",
    "print(\"F1-Score: {0}%\".format(round(mean(store_fscore)*100, 4)))\n",
    "print(\"MCC: {0}\\n\".format(round(mean(store_mcc), 4)))"
   ]
  },
  {
   "cell_type": "code",
   "execution_count": 84,
   "metadata": {
    "colab": {
     "base_uri": "https://localhost:8080/"
    },
    "id": "OXaZq0SHAKq4",
    "outputId": "ebf30b51-f2da-4384-c7fd-a2e1d5e80fa2"
   },
   "outputs": [
    {
     "data": {
      "text/plain": [
       "array([[134.,   0.,   0.,   0.,   0.,   0.,   0.,   0.,   0.,   2.,   1.,\n",
       "          0.,   4.,   0.,   1.,   0.,   0.,   1.,   3.,   0.,   0.,   0.,\n",
       "          1.,   1.,   1.,   0.],\n",
       "       [  1., 115.,   0.,   4.,   2.,   1.,   0.,   3.,   1.,   0.,   0.,\n",
       "          0.,   0.,   0.,   3.,   1.,   2.,  10.,   5.,   0.,   0.,   0.,\n",
       "          0.,   3.,   1.,   1.],\n",
       "       [  0.,   0.,  99.,   1.,   4.,   1.,   2.,   3.,   0.,   0.,  10.,\n",
       "          1.,   2.,   0.,   0.,   0.,   4.,   0.,   0.,   4.,   3.,   0.,\n",
       "          2.,   0.,   0.,   1.],\n",
       "       [  2.,   2.,   0., 131.,   0.,   2.,   0.,   2.,   0.,   3.,   0.,\n",
       "          0.,   3.,   0.,   2.,   1.,   1.,   1.,   0.,   1.,   0.,   0.,\n",
       "          0.,   1.,   0.,   4.],\n",
       "       [  0.,   1.,   2.,   0., 116.,   1.,   3.,   0.,   1.,   0.,   3.,\n",
       "          0.,   0.,   0.,   0.,   0.,   3.,   1.,   3.,   1.,   0.,   0.,\n",
       "          0.,   0.,   0.,   6.],\n",
       "       [  1.,   4.,   0.,   1.,   4.,  92.,   2.,   1.,   4.,   1.,   1.,\n",
       "          0.,   0.,   0.,   0.,  11.,   0.,   0.,   1.,  11.,   0.,   0.,\n",
       "          1.,   1.,   3.,   1.],\n",
       "       [  1.,   2.,  27.,   2.,   4.,   0.,  73.,   0.,   0.,   0.,  12.,\n",
       "          2.,   1.,   0.,   1.,   0.,  18.,   6.,   3.,   0.,   0.,   3.,\n",
       "          4.,   0.,   1.,   0.],\n",
       "       [  5.,   2.,   0.,  11.,   0.,   3.,   0.,  48.,   0.,   0.,  11.,\n",
       "          0.,   9.,   7.,  15.,   2.,   1.,  13.,   0.,   1.,   9.,   1.,\n",
       "          2.,   1.,   3.,   0.],\n",
       "       [  0.,   2.,   0.,   3.,   1.,   0.,   0.,   0., 119.,   8.,   0.,\n",
       "          2.,   0.,   0.,   1.,   1.,   0.,   0.,   2.,   0.,   0.,   0.,\n",
       "          0.,   4.,   3.,   0.],\n",
       "       [  3.,   0.,   0.,   0.,   0.,   2.,   0.,   0.,   8., 121.,   0.,\n",
       "          0.,   0.,   0.,   0.,   4.,   0.,   0.,   5.,   1.,   0.,   0.,\n",
       "          0.,   4.,   1.,   0.],\n",
       "       [  0.,   0.,   3.,   1.,   4.,   0.,   0.,   2.,   0.,   0.,  90.,\n",
       "          1.,   1.,   0.,   0.,   0.,   0.,  17.,   0.,   1.,   4.,   0.,\n",
       "          1.,   5.,   0.,   0.],\n",
       "       [  0.,   2.,   0.,   0.,   7.,   0.,   5.,   0.,   0.,   0.,   1.,\n",
       "        131.,   0.,   1.,   0.,   0.,   3.,   1.,   1.,   1.,   0.,   0.,\n",
       "          0.,   1.,   1.,   0.],\n",
       "       [  2.,   2.,   0.,   0.,   0.,   0.,   0.,   0.,   0.,   0.,   1.,\n",
       "          0., 152.,   8.,   1.,   0.,   0.,   1.,   0.,   0.,   0.,   0.,\n",
       "          1.,   0.,   0.,   0.],\n",
       "       [  0.,   0.,   0.,   6.,   0.,   0.,   0.,  10.,   0.,   0.,   4.,\n",
       "          0.,   5., 114.,   0.,   0.,   0.,   1.,   0.,   2.,   2.,   0.,\n",
       "          7.,   0.,   0.,   0.],\n",
       "       [  6.,   0.,   2.,  10.,   0.,   0.,   2.,  12.,   0.,   2.,   0.,\n",
       "          1.,   3.,   3.,  78.,   1.,   9.,   0.,   0.,   1.,   5.,   5.,\n",
       "          5.,   0.,   0.,   0.],\n",
       "       [  0.,   1.,   0.,   0.,   0.,  10.,   7.,   0.,   0.,   0.,   0.,\n",
       "          0.,   0.,   0.,   1., 147.,   0.,   0.,   1.,   1.,   0.,   0.,\n",
       "          0.,   0.,   5.,   0.],\n",
       "       [  5.,   8.,   1.,   1.,   3.,   0.,   5.,   0.,   0.,   0.,   0.,\n",
       "          2.,   1.,   0.,   3.,   1., 125.,   0.,   3.,   0.,   0.,   1.,\n",
       "          1.,   0.,   4.,   2.],\n",
       "       [  1.,   5.,   0.,   5.,   3.,   0.,   1.,   1.,   0.,   0.,   2.,\n",
       "          0.,   2.,   0.,   1.,   0.,   2., 133.,   0.,   1.,   0.,   0.,\n",
       "          1.,   2.,   0.,   0.],\n",
       "       [  2.,  10.,   0.,   1.,   3.,   0.,   1.,   0.,   5.,   1.,   0.,\n",
       "          8.,   0.,   0.,   0.,   3.,   3.,   4.,  94.,   3.,   0.,   0.,\n",
       "          0.,   3.,   6.,  24.],\n",
       "       [  0.,   1.,   1.,   1.,   3.,   1.,   1.,   0.,   1.,   0.,   1.,\n",
       "          0.,   1.,   0.,   0.,   0.,   0.,   1.,   1., 142.,   1.,   2.,\n",
       "          0.,   1.,   2.,   2.],\n",
       "       [  0.,   0.,   0.,   0.,   0.,   0.,   0.,   2.,   0.,   0.,   1.,\n",
       "          0.,   9.,   2.,   7.,   0.,   0.,   1.,   0.,   0., 158.,   0.,\n",
       "          3.,   0.,   0.,   0.],\n",
       "       [  0.,   2.,   0.,   1.,   0.,   0.,   0.,   0.,   0.,   0.,   0.,\n",
       "          0.,   1.,   0.,   2.,   4.,   0.,   0.,   0.,   0.,   1., 138.,\n",
       "          7.,   0.,   2.,   0.],\n",
       "       [  0.,   0.,   0.,   0.,   0.,   0.,   0.,   2.,   0.,   0.,   1.,\n",
       "          0.,   6.,   0.,   0.,   0.,   0.,   0.,   0.,   0.,   2.,   1.,\n",
       "        136.,   0.,   0.,   0.],\n",
       "       [  3.,   1.,   0.,   2.,   2.,   0.,   0.,   0.,   2.,   0.,   1.,\n",
       "          1.,   0.,   0.,   0.,   0.,   0.,   1.,   3.,   5.,   1.,   0.,\n",
       "          0., 128.,   3.,   1.],\n",
       "       [  3.,   0.,   0.,   2.,   0.,   4.,   0.,   0.,   0.,   0.,   0.,\n",
       "          0.,   0.,   0.,   0.,   0.,   7.,   0.,   1.,  17.,   0.,  11.,\n",
       "          0.,   1., 122.,   0.],\n",
       "       [  0.,   0.,   0.,   0.,  10.,   0.,   0.,   0.,   0.,   7.,   0.,\n",
       "          1.,   0.,   0.,   0.,   0.,   1.,   1.,  16.,   1.,   0.,   0.,\n",
       "          0.,   0.,   0.,  95.]])"
      ]
     },
     "execution_count": 84,
     "metadata": {},
     "output_type": "execute_result"
    }
   ],
   "source": [
    "comp_confmat(Ytest, ypred_SVM)"
   ]
  },
  {
   "cell_type": "code",
   "execution_count": 85,
   "metadata": {
    "colab": {
     "base_uri": "https://localhost:8080/"
    },
    "id": "7FC6Q8DhAfEv",
    "outputId": "f274dba3-67bb-4a8e-d845-bd680f09b926"
   },
   "outputs": [
    {
     "name": "stdout",
     "output_type": "stream",
     "text": [
      "              precision    recall  f1-score   support\n",
      "\n",
      "           0       0.79      0.90      0.84       149\n",
      "           1       0.72      0.75      0.73       153\n",
      "           2       0.73      0.72      0.73       137\n",
      "           3       0.72      0.84      0.77       156\n",
      "           4       0.70      0.82      0.76       141\n",
      "           5       0.79      0.66      0.72       140\n",
      "           6       0.72      0.46      0.56       160\n",
      "           7       0.56      0.33      0.42       144\n",
      "           8       0.84      0.82      0.83       146\n",
      "           9       0.83      0.81      0.82       149\n",
      "          10       0.64      0.69      0.67       130\n",
      "          11       0.87      0.85      0.86       155\n",
      "          12       0.76      0.90      0.83       168\n",
      "          13       0.84      0.75      0.80       151\n",
      "          14       0.67      0.54      0.60       145\n",
      "          15       0.84      0.85      0.84       173\n",
      "          16       0.70      0.75      0.72       166\n",
      "          17       0.69      0.83      0.75       160\n",
      "          18       0.66      0.55      0.60       171\n",
      "          19       0.73      0.87      0.80       163\n",
      "          20       0.85      0.86      0.86       183\n",
      "          21       0.85      0.87      0.86       158\n",
      "          22       0.79      0.92      0.85       148\n",
      "          23       0.82      0.83      0.83       154\n",
      "          24       0.77      0.73      0.75       168\n",
      "          25       0.69      0.72      0.71       132\n",
      "\n",
      "    accuracy                           0.76      4000\n",
      "   macro avg       0.75      0.76      0.75      4000\n",
      "weighted avg       0.76      0.76      0.75      4000\n",
      "\n"
     ]
    }
   ],
   "source": [
    "print(classification_report(Ytest, ypred_SVM))"
   ]
  },
  {
   "cell_type": "markdown",
   "metadata": {
    "id": "4o216OyEK5WV"
   },
   "source": [
    "# Random Forest Classifier"
   ]
  },
  {
   "cell_type": "code",
   "execution_count": 63,
   "metadata": {
    "id": "T26Tqd1XHeEV"
   },
   "outputs": [],
   "source": [
    "#class to control tree node\n",
    "class Node:\n",
    "    #initializer\n",
    "    def __init__(self):\n",
    "        self.__Bs    = None\n",
    "        self.__Bf    = None\n",
    "        self.__left  = None\n",
    "        self.__right = None\n",
    "        self.leafv   = None\n",
    "\n",
    "    #set the split,feature parameters for this node\n",
    "    def set_params(self,Bs,Bf):\n",
    "        self.__Bs = Bs\n",
    "        self.__Bf = Bf\n",
    "        \n",
    "    #get the split,feature parameters for this node\n",
    "    def get_params(self):\n",
    "        return(self.__Bs,self.__Bf)    \n",
    "        \n",
    "    #set the left/right children nodes for this current node\n",
    "    def set_children(self,left,right):\n",
    "        self.__left  = left\n",
    "        self.__right = right\n",
    "        \n",
    "    #get the left child node\n",
    "    def get_left_node(self):\n",
    "        return(self.__left)\n",
    "    \n",
    "    #get the right child node\n",
    "    def get_right_node(self):\n",
    "        return(self.__right)"
   ]
  },
  {
   "cell_type": "code",
   "execution_count": 64,
   "metadata": {
    "id": "Y85G61Z1FQLg"
   },
   "outputs": [],
   "source": [
    "## define the random forest classes ##\n",
    "\n",
    "#base class for the random forest algorithm\n",
    "class RandomForest(ABC):\n",
    "    #initializer\n",
    "    def __init__(self,n_trees=100):\n",
    "        self.n_trees = n_trees\n",
    "        self.trees   = []\n",
    "        \n",
    "    #private function to make bootstrap samples\n",
    "    def __make_bootstraps(self,data):\n",
    "        #initialize output dictionary & unique value count\n",
    "        dc   = {}\n",
    "        unip = 0\n",
    "        #get sample size\n",
    "        b_size = data.shape[0]\n",
    "        #get list of row indexes\n",
    "        idx = [i for i in range(b_size)]\n",
    "        #loop through the required number of bootstraps\n",
    "        for b in range(self.n_trees):\n",
    "            #obtain boostrap samples with replacement\n",
    "            sidx   = np.random.choice(idx,replace=True,size=b_size)\n",
    "            b_samp = data[sidx,:]\n",
    "            #compute number of unique values contained in the bootstrap sample\n",
    "            unip  += len(set(sidx))\n",
    "            #obtain out-of-bag samples for the current b\n",
    "            oidx   = list(set(idx) - set(sidx))\n",
    "            o_samp = np.array([])\n",
    "            if oidx:\n",
    "                o_samp = data[oidx,:]\n",
    "            #store results\n",
    "            dc['boot_'+str(b)] = {'boot':b_samp,'test':o_samp}\n",
    "        #return the bootstrap results\n",
    "        return(dc)\n",
    "  \n",
    "    #public function to return model parameters\n",
    "    def get_params(self, deep = False):\n",
    "        return {'n_trees':self.n_trees}\n",
    "\n",
    "    #protected function to obtain the right decision tree\n",
    "    @abstractmethod\n",
    "    def _make_tree_model(self):\n",
    "        pass\n",
    "    \n",
    "    #protected function to train the ensemble\n",
    "    def _train(self,X_train,y_train):\n",
    "        #package the input data\n",
    "        training_data = np.concatenate((X_train,y_train.reshape(-1,1)),axis=1)\n",
    "        #make bootstrap samples\n",
    "        dcBoot = self.__make_bootstraps(training_data)\n",
    "        #iterate through each bootstrap sample & fit a model ##\n",
    "        tree_m = self._make_tree_model()\n",
    "        dcOob    = {}\n",
    "        for b in dcBoot:\n",
    "            #make a clone of the model\n",
    "            model = clone(tree_m)\n",
    "            #fit a decision tree model to the current sample\n",
    "            model.fit(dcBoot[b]['boot'][:,:-1],dcBoot[b]['boot'][:,-1].reshape(-1, 1))\n",
    "            #append the fitted model\n",
    "            self.trees.append(model)\n",
    "            #store the out-of-bag test set for the current bootstrap\n",
    "            if dcBoot[b]['test'].size:\n",
    "                dcOob[b] = dcBoot[b]['test']\n",
    "            else:\n",
    "                dcOob[b] = np.array([])\n",
    "        #return the oob data set\n",
    "        return(dcOob)\n",
    "       \n",
    "    #protected function to predict from the ensemble\n",
    "    def _predict(self,X):\n",
    "        #check we've fit the ensemble\n",
    "        if not self.trees:\n",
    "            print('You must train the ensemble before making predictions!')\n",
    "            return(None)\n",
    "        #loop through each fitted model\n",
    "        predictions = []\n",
    "        for m in self.trees:\n",
    "            #make predictions on the input X\n",
    "            yp = m.predict(X)\n",
    "            #append predictions to storage list\n",
    "            predictions.append(yp.reshape(-1,1))\n",
    "        #compute the ensemble prediction\n",
    "        ypred = np.mean(np.concatenate(predictions,axis=1),axis=1)\n",
    "        #return the prediction\n",
    "        return(ypred)"
   ]
  },
  {
   "cell_type": "code",
   "execution_count": 65,
   "metadata": {
    "id": "XTw_h6xxE7nb"
   },
   "outputs": [],
   "source": [
    "#class for random forest classifier\n",
    "class RandomForestClassifier(RandomForest):\n",
    "    #initializer\n",
    "    def __init__(self,n_trees=100,max_depth=None,min_samples_split=2,loss='gini',balance_class_weights=False):\n",
    "        super().__init__(n_trees)\n",
    "        self.max_depth             = max_depth\n",
    "        self.min_samples_split     = min_samples_split\n",
    "        self.loss                  = loss\n",
    "        self.balance_class_weights = balance_class_weights\n",
    "        \n",
    "    #protected function to obtain the right decision tree\n",
    "    def _make_tree_model(self):\n",
    "        return(DecisionTreeClassifier())\n",
    "    \n",
    "    #public function to return model parameters\n",
    "    def get_params(self, deep = False):\n",
    "        return {'n_trees':self.n_trees,\n",
    "                'max_depth':self.max_depth,\n",
    "                'min_samples_split':self.min_samples_split,\n",
    "                'loss':self.loss,\n",
    "                'balance_class_weights':self.balance_class_weights}\n",
    "    \n",
    "    #train the ensemble\n",
    "    def fit(self,X_train,y_train,print_metrics=False):\n",
    "        #call the protected training method\n",
    "        dcOob = self._train(X_train,y_train)\n",
    "        #if selected, compute the standard errors and print them\n",
    "        if print_metrics:\n",
    "            #initialise metric arrays\n",
    "            accs = np.array([])\n",
    "            pres = np.array([])\n",
    "            recs = np.array([])\n",
    "            #loop through each bootstrap sample\n",
    "            for b,m in zip(dcOob,self.trees):\n",
    "                #compute the predictions on the out-of-bag test set & compute metrics\n",
    "                if dcOob[b].size:\n",
    "                    yp  = m.predict(dcOob[b][:,:-1])\n",
    "                    acc = accuracy_score(dcOob[b][:,-1],yp)\n",
    "                    pre = precision_score(dcOob[b][:,-1],yp,average='weighted')   \n",
    "                    rec = recall_score(dcOob[b][:,-1],yp,average='weighted')\n",
    "                    #store the error metrics\n",
    "                    accs = np.concatenate((accs,acc.flatten()))\n",
    "                    pres = np.concatenate((pres,pre.flatten()))\n",
    "                    recs = np.concatenate((recs,rec.flatten()))\n",
    "            #print standard errors\n",
    "            print(\"Standard error in accuracy: %.2f\" % np.std(accs))\n",
    "            print(\"Standard error in precision: %.2f\" % np.std(pres))\n",
    "            print(\"Standard error in recall: %.2f\" % np.std(recs))\n",
    "            \n",
    "    #predict from the ensemble\n",
    "    def predict(self,X):\n",
    "        #call the protected prediction method\n",
    "        ypred = self._predict(X)\n",
    "        #convert the results into integer values & return\n",
    "        return(np.round(ypred).astype(int))"
   ]
  },
  {
   "cell_type": "code",
   "execution_count": 66,
   "metadata": {
    "id": "OyLeEfb-Ffpp"
   },
   "outputs": [],
   "source": [
    "rfc = RandomForestClassifier(balance_class_weights='balanced')"
   ]
  },
  {
   "cell_type": "code",
   "execution_count": 67,
   "metadata": {
    "colab": {
     "base_uri": "https://localhost:8080/"
    },
    "id": "gvE57JH0FiBe",
    "outputId": "4f25dad7-d2c2-478a-8d0e-918ca32df540"
   },
   "outputs": [
    {
     "name": "stdout",
     "output_type": "stream",
     "text": [
      "Standard error in accuracy: 0.01\n",
      "Standard error in precision: 0.01\n",
      "Standard error in recall: 0.01\n"
     ]
    }
   ],
   "source": [
    "rfc.fit(Xtrain,Ytrain,print_metrics=True)"
   ]
  },
  {
   "cell_type": "code",
   "execution_count": 69,
   "metadata": {
    "colab": {
     "base_uri": "https://localhost:8080/"
    },
    "id": "VsUmOID5EeaN",
    "outputId": "aa68198e-ec67-46f8-9901-d68d883f2bfe"
   },
   "outputs": [
    {
     "name": "stdout",
     "output_type": "stream",
     "text": [
      "Mean Accuracy: 0.65\n",
      "Mean Precision: 0.68\n",
      "Mean Recall: 0.65\n"
     ]
    }
   ],
   "source": [
    "## use k fold cross validation to measure performance ##\n",
    "scoring_metrics = {'accuracy': make_scorer(accuracy_score), \n",
    "                   'precision': make_scorer(precision_score, average='weighted'),\n",
    "                   'recall': make_scorer(recall_score, average='weighted')}\n",
    "dcScores        = cross_validate(rfc,Xtrain,Ytrain,cv=StratifiedKFold(10),scoring=scoring_metrics)\n",
    "print('Mean Accuracy: %.2f' % np.mean(dcScores['test_accuracy']))\n",
    "print('Mean Precision: %.2f' % np.mean(dcScores['test_precision']))\n",
    "print('Mean Recall: %.2f' % np.mean(dcScores['test_recall']))"
   ]
  },
  {
   "cell_type": "markdown",
   "metadata": {},
   "source": [
    "## Bagging Classifier"
   ]
  },
  {
   "cell_type": "code",
   "execution_count": 70,
   "metadata": {
    "id": "2VMTrP8pIubx"
   },
   "outputs": [],
   "source": [
    "#create a bagging classifer with balanced class weights\n",
    "btc = BaggingClassifier(base_estimator=DecisionTreeClassifier(class_weight='balanced'),n_estimators=100)"
   ]
  },
  {
   "cell_type": "code",
   "execution_count": 72,
   "metadata": {
    "id": "petFtOxhIxpR"
   },
   "outputs": [
    {
     "name": "stdout",
     "output_type": "stream",
     "text": [
      "Mean Accuracy: 0.93\n",
      "Mean Precision: 0.94\n",
      "Mean Recall: 0.93\n"
     ]
    }
   ],
   "source": [
    "## use k fold cross validation to measure performance ##\n",
    "scoring_metrics = {'accuracy': make_scorer(accuracy_score), \n",
    "                   'precision': make_scorer(precision_score, average='weighted'),\n",
    "                   'recall': make_scorer(recall_score, average='weighted')}\n",
    "dcScores        = cross_validate(btc,Xtrain,Ytrain,cv=StratifiedKFold(10),scoring=scoring_metrics)\n",
    "print('Mean Accuracy: %.2f' % np.mean(dcScores['test_accuracy']))\n",
    "print('Mean Precision: %.2f' % np.mean(dcScores['test_precision']))\n",
    "print('Mean Recall: %.2f' % np.mean(dcScores['test_recall']))"
   ]
  },
  {
   "cell_type": "markdown",
   "metadata": {},
   "source": [
    "## KNN Classifier"
   ]
  },
  {
   "cell_type": "code",
   "execution_count": 138,
   "metadata": {},
   "outputs": [],
   "source": [
    "class KNN(ABC):\n",
    "    \"\"\"\n",
    "    Base class for KNN implementations\n",
    "    \"\"\"\n",
    "    \n",
    "    def __init__(self, K : int = 3, metric : str = 'minkowski', p : int = 2) -> None:\n",
    "        \"\"\"\n",
    "        Initializer function. Ensure that input parameters are compatiable.\n",
    "        Inputs:\n",
    "            K      -> integer specifying number of neighbours to consider\n",
    "            metric -> string to indicate the distance metric to use (valid entries are 'minkowski' or 'cosine')\n",
    "            p      -> order of the minkowski metric (valid only when distance == 'minkowski')\n",
    "        \"\"\"\n",
    "        # check distance is a valid entry\n",
    "        valid_distance = ['minkowski','cosine']\n",
    "        if metric not in valid_distance:\n",
    "            msg = \"Entered value for metric is not valid. Pick one of {}\".format(valid_distance)\n",
    "            raise ValueError(msg)\n",
    "        # check minkowski p parameter\n",
    "        if (metric == 'minkowski') and (p <= 0):\n",
    "            msg = \"Entered value for p is not valid. For metric = 'minkowski', p >= 1\"\n",
    "            raise ValueError(msg)\n",
    "        # store/initialise input parameters\n",
    "        self.K       = K\n",
    "        self.metric  = metric\n",
    "        self.p       = p\n",
    "        self.X_train = np.array([])\n",
    "        self.y_train = np.array([])\n",
    "        \n",
    "    def __del__(self) -> None:\n",
    "        \"\"\"\n",
    "        Destructor function. \n",
    "        \"\"\"\n",
    "        del self.K\n",
    "        del self.metric\n",
    "        del self.p\n",
    "        del self.X_train\n",
    "        del self.y_train\n",
    "      \n",
    "    def __minkowski(self, x : np.array) -> np.array:\n",
    "        \"\"\"\n",
    "        Private function to compute the minkowski distance between point x and the training data X\n",
    "        Inputs:\n",
    "            x -> numpy data point of predictors to consider\n",
    "        Outputs:\n",
    "            np.array -> numpy array of the computed distances\n",
    "        \"\"\"\n",
    "        return np.power(np.sum(np.power(np.abs(self.X_train - x),self.p),axis=1),1/self.p)\n",
    "    \n",
    "    def __cosine(self, x : np.array) -> np.array:\n",
    "        \"\"\"\n",
    "        Private function to compute the cosine distance between point x and the training data X\n",
    "        Inputs:\n",
    "            x -> numpy data point of predictors to consider\n",
    "        Outputs:\n",
    "            np.array -> numpy array of the computed distances\n",
    "        \"\"\"\n",
    "        return (1 - (np.dot(self.X_train,x)/(np.linalg.norm(x)*np.linalg.norm(self.X_train,axis=1))))\n",
    "    \n",
    "    def __distances(self, X : np.array) -> np.array:\n",
    "        \"\"\"\n",
    "        Private function to compute distances to each point x in X[x,:]\n",
    "        Inputs:\n",
    "            X -> numpy array of points [x]\n",
    "        Outputs:\n",
    "            D -> numpy array containing distances from x to all points in the training set.\n",
    "        \"\"\"\n",
    "        # cover distance calculation\n",
    "        if self.metric == 'minkowski':\n",
    "            D = np.apply_along_axis(self.__minkowski,1,X)\n",
    "        elif self.metric == 'cosine':\n",
    "            D = np.apply_along_axis(self.__cosine,1,X)\n",
    "        # return computed distances\n",
    "        return D\n",
    "    \n",
    "    @abstractmethod\n",
    "    def _generate_predictions(self, idx_neighbours : np.array) -> np.array:\n",
    "        \"\"\"\n",
    "        Protected function to compute predictions from the K nearest neighbours\n",
    "        \"\"\"\n",
    "        pass\n",
    "        \n",
    "    def fit(self, X : np.array, y : np.array) -> None:\n",
    "        \"\"\"\n",
    "        Public training function for the class. It is assummed input X has been normalised.\n",
    "        Inputs:\n",
    "            X -> numpy array containing the predictor features\n",
    "            y -> numpy array containing the labels associated with each value in X\n",
    "        \"\"\"\n",
    "        # store training data\n",
    "        self.X_train = np.copy(X)\n",
    "        self.y_train = np.copy(y)\n",
    "        \n",
    "    def predict(self, X : np.array) -> np.array:\n",
    "        \"\"\"\n",
    "        Public prediction function for the class. \n",
    "        It is assummed input X has been normalised in the same fashion as the input to the training function\n",
    "        Inputs:\n",
    "            X -> numpy array containing the predictor features\n",
    "        Outputs:\n",
    "           y_pred -> numpy array containing the predicted labels\n",
    "        \"\"\"\n",
    "        # ensure we have already trained the instance\n",
    "        if (self.X_train.size == 0) or (self.y_train.size == 0):\n",
    "            raise Exception('Model is not trained. Call fit before calling predict.')\n",
    "        # compute distances\n",
    "        D = self.__distances(X)\n",
    "        # obtain indices for the K nearest neighbours\n",
    "        idx_neighbours = D.argsort()[:,:self.K]\n",
    "        # compute predictions\n",
    "        y_pred = self._generate_predictions(idx_neighbours)\n",
    "        # return results\n",
    "        return y_pred\n",
    "    \n",
    "    def get_params(self, deep : bool = False) -> Dict:\n",
    "        \"\"\"\n",
    "        Public function to return model parameters\n",
    "        Inputs:\n",
    "            deep -> boolean input parameter\n",
    "        Outputs:\n",
    "            Dict -> dictionary of stored class input parameters\n",
    "        \"\"\"\n",
    "        return {'K':self.K,\n",
    "                'metric':self.metric,\n",
    "                'p':self.p}"
   ]
  },
  {
   "cell_type": "code",
   "execution_count": 139,
   "metadata": {},
   "outputs": [],
   "source": [
    "class KNNClassifier(KNN):\n",
    "    \"\"\"\n",
    "    Class for KNN classifiction implementation\n",
    "    \"\"\"\n",
    "    \n",
    "    def __init__(self, K : int = 3, metric : str = 'minkowski', p : int = 2) -> None:\n",
    "        \"\"\"\n",
    "        Initializer function. Ensure that input parameters are compatiable.\n",
    "        Inputs:\n",
    "            K       -> integer specifying number of neighbours to consider\n",
    "            metric  -> string to indicate the distance metric to use (valid entries are 'minkowski' or 'cosine')\n",
    "            p       -> order of the minkowski metric (valid only when distance == 'minkowski')\n",
    "        \"\"\"\n",
    "        # call base class initialiser\n",
    "        super().__init__(K,metric,p)\n",
    "        \n",
    "    def _generate_predictions(self, idx_neighbours : np.array) -> np.array:\n",
    "        \"\"\"\n",
    "        Protected function to compute predictions from the K nearest neighbours\n",
    "        Inputs:\n",
    "            idx_neighbours -> indices of nearest neighbours\n",
    "        Outputs:\n",
    "            y_pred -> numpy array of prediction results\n",
    "        \"\"\"        \n",
    "        # compute the mode label for each submitted sample\n",
    "        y_pred = stats.mode(self.y_train[idx_neighbours],axis=1).mode.flatten()   \n",
    "        # return result\n",
    "        return y_pred"
   ]
  },
  {
   "cell_type": "code",
   "execution_count": 168,
   "metadata": {},
   "outputs": [],
   "source": [
    "def accuracy(y_test, y_preds):\n",
    "    \"\"\"Calculates inference accuracy of the model.\n",
    "    \n",
    "    Args-\n",
    "        y_test- Original target labels of the test set\n",
    "        y_preds- Predicted target lables\n",
    "    Returns-\n",
    "        acc\n",
    "    \"\"\"\n",
    "    total_correct = 0\n",
    "    for i in range(len(y_test)):\n",
    "        if int(y_test[i]) == int(y_preds[i]):\n",
    "            total_correct += 1\n",
    "    acc = total_correct/len(y_test)\n",
    "    return acc"
   ]
  },
  {
   "cell_type": "code",
   "execution_count": 224,
   "metadata": {},
   "outputs": [],
   "source": [
    "knnmodel = KNNClassifier(8, metric = 'cosine')\n",
    "knnmodel.fit(Xtrain,Ytrain)"
   ]
  },
  {
   "cell_type": "code",
   "execution_count": 225,
   "metadata": {},
   "outputs": [
    {
     "data": {
      "text/plain": [
       "array([19, 11,  0, ..., 16, 24, 24])"
      ]
     },
     "execution_count": 225,
     "metadata": {},
     "output_type": "execute_result"
    }
   ],
   "source": [
    "ypred_knn = knnmodel.predict(Xtest)\n",
    "ypred_knn"
   ]
  },
  {
   "cell_type": "code",
   "execution_count": 226,
   "metadata": {},
   "outputs": [
    {
     "name": "stdout",
     "output_type": "stream",
     "text": [
      "KNN Model accuracy=  93.2\n"
     ]
    }
   ],
   "source": [
    "acc = accuracy(Ytest, ypred_knn)\n",
    "print('KNN Model accuracy= ', acc*100)"
   ]
  },
  {
   "cell_type": "code",
   "execution_count": 191,
   "metadata": {},
   "outputs": [
    {
     "name": "stderr",
     "output_type": "stream",
     "text": [
      "/Users/deepikasundaram/opt/anaconda3/lib/python3.9/site-packages/seaborn/_decorators.py:36: FutureWarning: Pass the following variables as keyword args: x, y. From version 0.12, the only valid positional argument will be `data`, and passing other arguments without an explicit keyword will result in an error or misinterpretation.\n",
      "  warnings.warn(\n",
      "Exception ignored in: <function KNN.__del__ at 0x7f8f48881790>\n",
      "Traceback (most recent call last):\n",
      "  File \"/var/folders/xw/1kppwkh50d9c0qkmghgzv1500000gn/T/ipykernel_33181/1893668369.py\", line 34, in __del__\n",
      "AttributeError: K\n",
      "Exception ignored in: <function KNN.__del__ at 0x7f8f026b91f0>\n",
      "Traceback (most recent call last):\n",
      "  File \"/var/folders/xw/1kppwkh50d9c0qkmghgzv1500000gn/T/ipykernel_33181/3249223408.py\", line 34, in __del__\n",
      "AttributeError: K\n"
     ]
    },
    {
     "data": {
      "text/plain": [
       "<AxesSubplot:>"
      ]
     },
     "execution_count": 191,
     "metadata": {},
     "output_type": "execute_result"
    },
    {
     "data": {
      "image/png": "[encoded data removed]",
      "text/plain": [
       "<Figure size 432x288 with 1 Axes>"
      ]
     },
     "metadata": {
      "needs_background": "light"
     },
     "output_type": "display_data"
    }
   ],
   "source": [
    "k_values = list(range(1,20))\n",
    "accuracy_list = []\n",
    "for k in k_values:\n",
    "    knnmodel = KNNClassifier(k,metric = 'cosine')\n",
    "    knnmodel.fit(Xtrain,Ytrain)\n",
    "    ypred_knn = knnmodel.predict(Xtest)\n",
    "    accuracy_list.append(accuracy(Ytest, ypred_knn))\n",
    "    \n",
    "# plotting k-value vs accuracy plot\n",
    "sns.barplot(k_values, accuracy_list)"
   ]
  },
  {
   "cell_type": "markdown",
   "metadata": {},
   "source": [
    "As we can see, k-value 1 has the highest accuracy. But for k=1, the model will be very sensitive to outliers. Hence, we will go with k=5 which has the second-highest accuracy. Let us observe the results with k=5.\n",
    "\n",
    "As you can see, we got a performance boost here! Just by tweaking the hyperparameter ‘k’, our model’s accuracy bumped up by almost 3 percent.\n",
    "\n"
   ]
  },
  {
   "cell_type": "code",
   "execution_count": 227,
   "metadata": {},
   "outputs": [],
   "source": [
    "knnmodel = KNNClassifier(5, metric = 'cosine')\n",
    "knnmodel.fit(Xtrain,Ytrain)"
   ]
  },
  {
   "cell_type": "code",
   "execution_count": 228,
   "metadata": {},
   "outputs": [
    {
     "data": {
      "text/plain": [
       "array([19, 11,  0, ..., 16, 24, 24])"
      ]
     },
     "execution_count": 228,
     "metadata": {},
     "output_type": "execute_result"
    }
   ],
   "source": [
    "ypred_knn = knnmodel.predict(Xtest)\n",
    "ypred_knn"
   ]
  },
  {
   "cell_type": "code",
   "execution_count": 229,
   "metadata": {},
   "outputs": [
    {
     "name": "stdout",
     "output_type": "stream",
     "text": [
      "KNN Model accuracy=  93.975\n"
     ]
    }
   ],
   "source": [
    "acc = accuracy(Ytest, ypred_knn)\n",
    "print('KNN Model accuracy= ', acc*100)"
   ]
  },
  {
   "cell_type": "code",
   "execution_count": null,
   "metadata": {},
   "outputs": [],
   "source": []
  },
  {
   "cell_type": "code",
   "execution_count": 241,
   "metadata": {},
   "outputs": [],
   "source": [
    "class Node():\n",
    "    def __init__(self, feature_index=None, threshold=None, left=None, right=None, info_gain=None, value=None):\n",
    "        ''' constructor ''' \n",
    "        \n",
    "        # for decision node\n",
    "        self.feature_index = feature_index\n",
    "        self.threshold = threshold\n",
    "        self.left = left\n",
    "        self.right = right\n",
    "        self.info_gain = info_gain\n",
    "        \n",
    "        # for leaf node\n",
    "        self.value = value\n"
   ]
  },
  {
   "cell_type": "code",
   "execution_count": 270,
   "metadata": {},
   "outputs": [],
   "source": [
    "class DecisionTreeClassifier():\n",
    "    def __init__(self, min_samples_split=2, max_depth=2):\n",
    "        ''' constructor '''\n",
    "        \n",
    "        # initialize the root of the tree \n",
    "        self.root = None\n",
    "        \n",
    "        # stopping conditions\n",
    "        self.min_samples_split = min_samples_split\n",
    "        self.max_depth = max_depth\n",
    "        \n",
    "    def build_tree(self, dataset, curr_depth=0):\n",
    "        ''' recursive function to build the tree ''' \n",
    "        \n",
    "        X, Y = dataset[:,:-1], dataset[:,-1]\n",
    "        num_samples, num_features = np.shape(X)\n",
    "        \n",
    "        # split until stopping conditions are met\n",
    "        if num_samples>=self.min_samples_split and curr_depth<=self.max_depth:\n",
    "            # find the best split\n",
    "            best_split = self.get_best_split(dataset, num_samples, num_features)\n",
    "            # check if information gain is positive\n",
    "            if best_split[\"info_gain\"]>0:\n",
    "                # recur left\n",
    "                left_subtree = self.build_tree(best_split[\"dataset_left\"], curr_depth+1)\n",
    "                # recur right\n",
    "                right_subtree = self.build_tree(best_split[\"dataset_right\"], curr_depth+1)\n",
    "                # return decision node\n",
    "                return Node(best_split[\"feature_index\"], best_split[\"threshold\"], \n",
    "                            left_subtree, right_subtree, best_split[\"info_gain\"])\n",
    "        \n",
    "        # compute leaf node\n",
    "        leaf_value = self.calculate_leaf_value(Y)\n",
    "        # return leaf node\n",
    "        return Node(value=leaf_value)\n",
    "    \n",
    "    def get_best_split(self, dataset, num_samples, num_features):\n",
    "        ''' function to find the best split '''\n",
    "        \n",
    "        # dictionary to store the best split\n",
    "        best_split = {}\n",
    "        max_info_gain = -float(\"inf\")\n",
    "        \n",
    "        # loop over all the features\n",
    "        for feature_index in range(num_features):\n",
    "            feature_values = dataset[:, feature_index]\n",
    "            possible_thresholds = np.unique(feature_values)\n",
    "            # loop over all the feature values present in the data\n",
    "            for threshold in possible_thresholds:\n",
    "                # get current split\n",
    "                dataset_left, dataset_right = self.split(dataset, feature_index, threshold)\n",
    "                # check if childs are not null\n",
    "                if len(dataset_left)>0 and len(dataset_right)>0:\n",
    "                    y, left_y, right_y = dataset[:, -1], dataset_left[:, -1], dataset_right[:, -1]\n",
    "                    # compute information gain\n",
    "                    curr_info_gain = self.information_gain(y, left_y, right_y, \"gini\")\n",
    "                    # update the best split if needed\n",
    "                    if curr_info_gain>max_info_gain:\n",
    "                        best_split[\"feature_index\"] = feature_index\n",
    "                        best_split[\"threshold\"] = threshold\n",
    "                        best_split[\"dataset_left\"] = dataset_left\n",
    "                        best_split[\"dataset_right\"] = dataset_right\n",
    "                        best_split[\"info_gain\"] = curr_info_gain\n",
    "                        max_info_gain = curr_info_gain\n",
    "                        \n",
    "        # return best split\n",
    "        return best_split\n",
    "    \n",
    "    def split(self, dataset, feature_index, threshold):\n",
    "        ''' function to split the data '''\n",
    "        \n",
    "        dataset_left = np.array([row for row in dataset if row[feature_index]<=threshold])\n",
    "        dataset_right = np.array([row for row in dataset if row[feature_index]>threshold])\n",
    "        return dataset_left, dataset_right\n",
    "    \n",
    "    def information_gain(self, parent, l_child, r_child, mode=\"entropy\"):\n",
    "        ''' function to compute information gain '''\n",
    "        \n",
    "        weight_l = len(l_child) / len(parent)\n",
    "        weight_r = len(r_child) / len(parent)\n",
    "        if mode==\"gini\":\n",
    "            gain = self.gini_index(parent) - (weight_l*self.gini_index(l_child) + weight_r*self.gini_index(r_child))\n",
    "        else:\n",
    "            gain = self.entropy(parent) - (weight_l*self.entropy(l_child) + weight_r*self.entropy(r_child))\n",
    "        return gain\n",
    "    \n",
    "    def entropy(self, y):\n",
    "        ''' function to compute entropy '''\n",
    "        \n",
    "        class_labels = np.unique(y)\n",
    "        entropy = 0\n",
    "        for cls in class_labels:\n",
    "            p_cls = len(y[y == cls]) / len(y)\n",
    "            entropy += -p_cls * np.log2(p_cls)\n",
    "        return entropy\n",
    "    \n",
    "    def gini_index(self, y):\n",
    "        ''' function to compute gini index '''\n",
    "        \n",
    "        class_labels = np.unique(y)\n",
    "        gini = 0\n",
    "        for cls in class_labels:\n",
    "            p_cls = len(y[y == cls]) / len(y)\n",
    "            gini += p_cls**2\n",
    "        return 1 - gini\n",
    "        \n",
    "    def calculate_leaf_value(self, Y):\n",
    "        ''' function to compute leaf node '''\n",
    "        \n",
    "        Y = list(Y)\n",
    "        return max(Y, key=Y.count)\n",
    "    \n",
    "    def print_tree(self, tree=None, indent=\" \"):\n",
    "        ''' function to print the tree '''\n",
    "        \n",
    "        if not tree:\n",
    "            tree = self.root\n",
    "\n",
    "        if tree.value is not None:\n",
    "            print(tree.value)\n",
    "\n",
    "        else:\n",
    "            print(\"X_\"+str(tree.feature_index), \"<=\", tree.threshold, \"?\", tree.info_gain)\n",
    "            print(\"%sleft:\" % (indent), end=\"\")\n",
    "            self.print_tree(tree.left, indent + indent)\n",
    "            print(\"%sright:\" % (indent), end=\"\")\n",
    "            self.print_tree(tree.right, indent + indent)\n",
    "    \n",
    "    def fit(self, X, Y):\n",
    "        ''' function to train the tree '''\n",
    "        \n",
    "        dataset = np.concatenate((X, Y), axis=1)\n",
    "        self.root = self.build_tree(dataset)\n",
    "    \n",
    "    def predict(self, X):\n",
    "        ''' function to predict new dataset '''\n",
    "        \n",
    "        preditions = [self.make_prediction(x, self.root) for x in X]\n",
    "        return preditions\n",
    "    \n",
    "    def make_prediction(self, x, tree):\n",
    "        ''' function to predict a single data point '''\n",
    "        \n",
    "        if tree.value!=None: return tree.value\n",
    "        feature_val = x[tree.feature_index]\n",
    "        if feature_val<=tree.threshold:\n",
    "            return self.make_prediction(x, tree.left)\n",
    "        else:\n",
    "            return self.make_prediction(x, tree.right)"
   ]
  },
  {
   "cell_type": "code",
   "execution_count": 271,
   "metadata": {},
   "outputs": [
    {
     "name": "stdout",
     "output_type": "stream",
     "text": [
      "X_10 <= -1.6928896238884787 ? 0.021722301880229278\n",
      " left:X_8 <= -0.915105649043981 ? 0.3056702060758584\n",
      "  left:X_12 <= 0.8376911587466098 ? 0.0454576539610553\n",
      "    left:X_14 <= -1.4381526966217852 ? 0.014370129284619233\n",
      "        left:13.0\n",
      "        right:0.0\n",
      "    right:X_0 <= -0.012309453615842696 ? 0.13265306122448983\n",
      "        left:0.0\n",
      "        right:12.0\n",
      "  right:X_5 <= 0.050543322002432105 ? 0.18985891653009035\n",
      "    left:X_14 <= 0.12008141632929248 ? 0.06880744937755805\n",
      "        left:11.0\n",
      "        right:18.0\n",
      "    right:X_12 <= -1.3059476117805662 ? 0.15879393129472885\n",
      "        left:9.0\n",
      "        right:17.0\n",
      " right:X_6 <= 0.6448857411547162 ? 0.021133027054859754\n",
      "  left:X_12 <= -0.877219857675131 ? 0.023561827202934094\n",
      "    left:X_14 <= 0.12008141632929248 ? 0.12990753077526218\n",
      "        left:8.0\n",
      "        right:25.0\n",
      "    right:X_14 <= -0.6590356401462464 ? 0.02716012052238692\n",
      "        left:20.0\n",
      "        right:23.0\n",
      "  right:X_12 <= 0.8376911587466098 ? 0.081976995119316\n",
      "    left:X_10 <= 0.5876082978292746 ? 0.08110977536770769\n",
      "        left:15.0\n",
      "        right:19.0\n",
      "    right:X_8 <= -0.915105649043981 ? 0.11393440411519129\n",
      "        left:22.0\n",
      "        right:13.0\n"
     ]
    }
   ],
   "source": [
    "classifier = DecisionTreeClassifier(min_samples_split=3, max_depth=3)\n",
    "classifier.fit(Xtrain,Ytrain.reshape(-1,1))\n",
    "classifier.print_tree()"
   ]
  },
  {
   "cell_type": "markdown",
   "metadata": {},
   "source": [
    "## Feature Selection"
   ]
  },
  {
   "cell_type": "code",
   "execution_count": 269,
   "metadata": {},
   "outputs": [
    {
     "data": {
      "image/png": "[encoded data removed]",
      "text/plain": [
       "<Figure size 2160x720 with 1 Axes>"
      ]
     },
     "metadata": {},
     "output_type": "display_data"
    }
   ],
   "source": [
    "plt.figure(figsize=(30,10), facecolor ='k')\n",
    "a = tree.plot_tree(classifier,\n",
    "                   feature_names = feature_names,\n",
    "                   class_names = order,\n",
    "                   rounded = True,\n",
    "                   filled = True,\n",
    "                   fontsize=14)\n",
    "\n",
    "plt.show()"
   ]
  },
  {
   "cell_type": "code",
   "execution_count": 286,
   "metadata": {},
   "outputs": [
    {
     "data": {
      "text/plain": [
       "(Index(['height', 'letter', 'onpix ', 'width ', 'x2bar', 'x2ybar', 'xbar ',\n",
       "        'xbox ', 'xedge ', 'xedgey', 'xy2bar', 'xybar ', 'y2bar', 'ybar ',\n",
       "        'ybox ', 'yedge ', 'yedgex'],\n",
       "       dtype='object'),\n",
       " array([ 4,  0,  5,  3,  8, 11,  6,  1, 13, 14, 12, 10,  9,  7,  2, 15, 16]))"
      ]
     },
     "execution_count": 286,
     "metadata": {},
     "output_type": "execute_result"
    }
   ],
   "source": [
    "dtFeatures = feature_names\n",
    "dtFeatures.columns = ['dtFeatures','treelevel']\n",
    "dtFeatures = dtFeatures.drop_duplicates()"
   ]
  }
 ],
 "metadata": {
  "colab": {
   "provenance": []
  },
  "kernelspec": {
   "display_name": "Python 3 (ipykernel)",
   "language": "python",
   "name": "python3"
  },
  "language_info": {
   "codemirror_mode": {
    "name": "ipython",
    "version": 3
   },
   "file_extension": ".py",
   "mimetype": "text/x-python",
   "name": "python",
   "nbconvert_exporter": "python",
   "pygments_lexer": "ipython3",
   "version": "3.9.7"
  }
 },
 "nbformat": 4,
 "nbformat_minor": 1
}
